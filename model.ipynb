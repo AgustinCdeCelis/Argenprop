{
 "cells": [
  {
   "cell_type": "code",
   "execution_count": 174,
   "metadata": {},
   "outputs": [],
   "source": [
    "import pandas as pd\n",
    "from itertools import chain"
   ]
  },
  {
   "cell_type": "code",
   "execution_count": 175,
   "metadata": {},
   "outputs": [],
   "source": [
    "df = pd.read_csv('argenprop.csv', converters={'tipo_moneda': pd.eval,'precio_vivienda': pd.eval,'direccion_vivienda':pd.eval,\n",
    "                                                'metros_cuadrados':pd.eval,'años_vivenda':pd.eval,'ambientes':pd.eval,'inmobiliaria':pd.eval})"
   ]
  },
  {
   "cell_type": "code",
   "execution_count": 176,
   "metadata": {},
   "outputs": [
    {
     "data": {
      "text/html": [
       "<div>\n",
       "<style scoped>\n",
       "    .dataframe tbody tr th:only-of-type {\n",
       "        vertical-align: middle;\n",
       "    }\n",
       "\n",
       "    .dataframe tbody tr th {\n",
       "        vertical-align: top;\n",
       "    }\n",
       "\n",
       "    .dataframe thead th {\n",
       "        text-align: right;\n",
       "    }\n",
       "</style>\n",
       "<table border=\"1\" class=\"dataframe\">\n",
       "  <thead>\n",
       "    <tr style=\"text-align: right;\">\n",
       "      <th></th>\n",
       "      <th>tipo_moneda</th>\n",
       "      <th>precio_vivienda</th>\n",
       "      <th>direccion_vivienda</th>\n",
       "      <th>metros_cuadrados</th>\n",
       "      <th>años_vivenda</th>\n",
       "      <th>ambientes</th>\n",
       "      <th>inmobiliaria</th>\n",
       "    </tr>\n",
       "  </thead>\n",
       "  <tbody>\n",
       "    <tr>\n",
       "      <th>0</th>\n",
       "      <td>[USD, USD, USD, $, $, $, $, $, $, $, $, $, $, ...</td>\n",
       "      <td>[\\nUSD 2.000                \\n                ...</td>\n",
       "      <td>[\\n                    JUAN MARIA GUTIERREZ 39...</td>\n",
       "      <td>[\\n                         140  m² cubie.\\n  ...</td>\n",
       "      <td>[\\n                         15 años\\n         ...</td>\n",
       "      <td>[\\n                         2 dorm.\\n         ...</td>\n",
       "      <td>[https://static1.sosiva451.com/452241_a/5b0a03...</td>\n",
       "    </tr>\n",
       "    <tr>\n",
       "      <th>1</th>\n",
       "      <td>[USD, USD, USD, $, $, $, $, $, $, $, $, $, $, ...</td>\n",
       "      <td>[\\nUSD 2.000                \\n                ...</td>\n",
       "      <td>[\\n                    JUAN MARIA GUTIERREZ 39...</td>\n",
       "      <td>[\\n                         140  m² cubie.\\n  ...</td>\n",
       "      <td>[\\n                         15 años\\n         ...</td>\n",
       "      <td>[\\n                         2 dorm.\\n         ...</td>\n",
       "      <td>[https://static1.sosiva451.com/452241_a/5b0a03...</td>\n",
       "    </tr>\n",
       "    <tr>\n",
       "      <th>2</th>\n",
       "      <td>[$, $, $, $, USD, $, $, $, $, $, $, $, $, $, $...</td>\n",
       "      <td>[\\n$ 390.000                \\n                ...</td>\n",
       "      <td>[\\n                    La Pampa al 2000\\n     ...</td>\n",
       "      <td>[\\n                         150  m² cubie.\\n  ...</td>\n",
       "      <td>[\\n                         A Estrenar\\n      ...</td>\n",
       "      <td>[\\n                         3 dorm.\\n         ...</td>\n",
       "      <td>[https://static1.sosiva451.com/347151_a/527a2f...</td>\n",
       "    </tr>\n",
       "    <tr>\n",
       "      <th>3</th>\n",
       "      <td>[$, $, $, $, $, $, $, $, USD, $, $, $, $, $, f...</td>\n",
       "      <td>[\\n$ 100.000                \\n                ...</td>\n",
       "      <td>[\\n                    Av. Congreso 2000, Piso...</td>\n",
       "      <td>[\\n                         41  m² cubie.\\n   ...</td>\n",
       "      <td>[\\n                         10 años\\n         ...</td>\n",
       "      <td>[\\n                         1 dorm.\\n         ...</td>\n",
       "      <td>[No aparece Inmobiliaria, No aparece Inmobilia...</td>\n",
       "    </tr>\n",
       "    <tr>\n",
       "      <th>4</th>\n",
       "      <td>[$, $, USD, $, $, $, USD, $, $, faltante, $, $...</td>\n",
       "      <td>[\\n$ 60.000                \\n                \\...</td>\n",
       "      <td>[\\n                    C Calvo 2600, Piso 5\\n ...</td>\n",
       "      <td>[\\n                         1 dorm.\\n         ...</td>\n",
       "      <td>[\\n                         1 baño\\n          ...</td>\n",
       "      <td>[\\n                         10 años\\n         ...</td>\n",
       "      <td>[https://static1.sosiva451.com/363841_a/510f74...</td>\n",
       "    </tr>\n",
       "    <tr>\n",
       "      <th>...</th>\n",
       "      <td>...</td>\n",
       "      <td>...</td>\n",
       "      <td>...</td>\n",
       "      <td>...</td>\n",
       "      <td>...</td>\n",
       "      <td>...</td>\n",
       "      <td>...</td>\n",
       "    </tr>\n",
       "    <tr>\n",
       "      <th>154</th>\n",
       "      <td>[]</td>\n",
       "      <td>[]</td>\n",
       "      <td>[]</td>\n",
       "      <td>[]</td>\n",
       "      <td>[]</td>\n",
       "      <td>[]</td>\n",
       "      <td>[]</td>\n",
       "    </tr>\n",
       "    <tr>\n",
       "      <th>155</th>\n",
       "      <td>[$, $, $, $, $, USD, USD, $, USD, $, USD, USD,...</td>\n",
       "      <td>[\\n$ 90.000                \\n                \\...</td>\n",
       "      <td>[\\n                    Suarez al 1100\\n       ...</td>\n",
       "      <td>[\\n                         60  m² cubie.\\n   ...</td>\n",
       "      <td>[\\n                         50 años\\n         ...</td>\n",
       "      <td>[\\n                         2 dorm.\\n         ...</td>\n",
       "      <td>[https://static1.sosiva451.com/t/48259012-a91a...</td>\n",
       "    </tr>\n",
       "    <tr>\n",
       "      <th>156</th>\n",
       "      <td>[USD, $, USD, $, $, USD, $, $, $, USD, $, $, $...</td>\n",
       "      <td>[\\nUSD 2.000                \\n            , \\n...</td>\n",
       "      <td>[falta lugar, \\n                    Núñez 4700...</td>\n",
       "      <td>[\\n                         114  m² cubie.\\n  ...</td>\n",
       "      <td>[\\n                         5 años\\n          ...</td>\n",
       "      <td>[\\n                         3 dorm.\\n         ...</td>\n",
       "      <td>[https://static1.sosiva451.com/564301_a/7ba27b...</td>\n",
       "    </tr>\n",
       "    <tr>\n",
       "      <th>157</th>\n",
       "      <td>[USD, $, $, $, USD, USD, $, $, $, $, $, $, $, ...</td>\n",
       "      <td>[\\nUSD 550                \\n                \\n...</td>\n",
       "      <td>[\\n                    La Pampa 2100\\n        ...</td>\n",
       "      <td>[\\n                         94  m² cubie.\\n   ...</td>\n",
       "      <td>[\\n                         13 años\\n         ...</td>\n",
       "      <td>[\\n                         3 dorm.\\n         ...</td>\n",
       "      <td>[https://static1.sosiva451.com/520641_a/227b8c...</td>\n",
       "    </tr>\n",
       "    <tr>\n",
       "      <th>158</th>\n",
       "      <td>[$, $, USD, $, USD, $, $, USD, USD, USD, $, $, $]</td>\n",
       "      <td>[\\n$ 50.000                \\n            , \\n$...</td>\n",
       "      <td>[\\n                    Esmeralda 900\\n        ...</td>\n",
       "      <td>[Faltante, \\n                         34  m² c...</td>\n",
       "      <td>[Faltante, Faltante, \\n                       ...</td>\n",
       "      <td>[\\n                         Monoam.\\n         ...</td>\n",
       "      <td>[https://static1.sosiva451.com/309171_a/a6679a...</td>\n",
       "    </tr>\n",
       "  </tbody>\n",
       "</table>\n",
       "<p>159 rows × 7 columns</p>\n",
       "</div>"
      ],
      "text/plain": [
       "                                           tipo_moneda  \\\n",
       "0    [USD, USD, USD, $, $, $, $, $, $, $, $, $, $, ...   \n",
       "1    [USD, USD, USD, $, $, $, $, $, $, $, $, $, $, ...   \n",
       "2    [$, $, $, $, USD, $, $, $, $, $, $, $, $, $, $...   \n",
       "3    [$, $, $, $, $, $, $, $, USD, $, $, $, $, $, f...   \n",
       "4    [$, $, USD, $, $, $, USD, $, $, faltante, $, $...   \n",
       "..                                                 ...   \n",
       "154                                                 []   \n",
       "155  [$, $, $, $, $, USD, USD, $, USD, $, USD, USD,...   \n",
       "156  [USD, $, USD, $, $, USD, $, $, $, USD, $, $, $...   \n",
       "157  [USD, $, $, $, USD, USD, $, $, $, $, $, $, $, ...   \n",
       "158  [$, $, USD, $, USD, $, $, USD, USD, USD, $, $, $]   \n",
       "\n",
       "                                       precio_vivienda  \\\n",
       "0    [\\nUSD 2.000                \\n                ...   \n",
       "1    [\\nUSD 2.000                \\n                ...   \n",
       "2    [\\n$ 390.000                \\n                ...   \n",
       "3    [\\n$ 100.000                \\n                ...   \n",
       "4    [\\n$ 60.000                \\n                \\...   \n",
       "..                                                 ...   \n",
       "154                                                 []   \n",
       "155  [\\n$ 90.000                \\n                \\...   \n",
       "156  [\\nUSD 2.000                \\n            , \\n...   \n",
       "157  [\\nUSD 550                \\n                \\n...   \n",
       "158  [\\n$ 50.000                \\n            , \\n$...   \n",
       "\n",
       "                                    direccion_vivienda  \\\n",
       "0    [\\n                    JUAN MARIA GUTIERREZ 39...   \n",
       "1    [\\n                    JUAN MARIA GUTIERREZ 39...   \n",
       "2    [\\n                    La Pampa al 2000\\n     ...   \n",
       "3    [\\n                    Av. Congreso 2000, Piso...   \n",
       "4    [\\n                    C Calvo 2600, Piso 5\\n ...   \n",
       "..                                                 ...   \n",
       "154                                                 []   \n",
       "155  [\\n                    Suarez al 1100\\n       ...   \n",
       "156  [falta lugar, \\n                    Núñez 4700...   \n",
       "157  [\\n                    La Pampa 2100\\n        ...   \n",
       "158  [\\n                    Esmeralda 900\\n        ...   \n",
       "\n",
       "                                      metros_cuadrados  \\\n",
       "0    [\\n                         140  m² cubie.\\n  ...   \n",
       "1    [\\n                         140  m² cubie.\\n  ...   \n",
       "2    [\\n                         150  m² cubie.\\n  ...   \n",
       "3    [\\n                         41  m² cubie.\\n   ...   \n",
       "4    [\\n                         1 dorm.\\n         ...   \n",
       "..                                                 ...   \n",
       "154                                                 []   \n",
       "155  [\\n                         60  m² cubie.\\n   ...   \n",
       "156  [\\n                         114  m² cubie.\\n  ...   \n",
       "157  [\\n                         94  m² cubie.\\n   ...   \n",
       "158  [Faltante, \\n                         34  m² c...   \n",
       "\n",
       "                                          años_vivenda  \\\n",
       "0    [\\n                         15 años\\n         ...   \n",
       "1    [\\n                         15 años\\n         ...   \n",
       "2    [\\n                         A Estrenar\\n      ...   \n",
       "3    [\\n                         10 años\\n         ...   \n",
       "4    [\\n                         1 baño\\n          ...   \n",
       "..                                                 ...   \n",
       "154                                                 []   \n",
       "155  [\\n                         50 años\\n         ...   \n",
       "156  [\\n                         5 años\\n          ...   \n",
       "157  [\\n                         13 años\\n         ...   \n",
       "158  [Faltante, Faltante, \\n                       ...   \n",
       "\n",
       "                                             ambientes  \\\n",
       "0    [\\n                         2 dorm.\\n         ...   \n",
       "1    [\\n                         2 dorm.\\n         ...   \n",
       "2    [\\n                         3 dorm.\\n         ...   \n",
       "3    [\\n                         1 dorm.\\n         ...   \n",
       "4    [\\n                         10 años\\n         ...   \n",
       "..                                                 ...   \n",
       "154                                                 []   \n",
       "155  [\\n                         2 dorm.\\n         ...   \n",
       "156  [\\n                         3 dorm.\\n         ...   \n",
       "157  [\\n                         3 dorm.\\n         ...   \n",
       "158  [\\n                         Monoam.\\n         ...   \n",
       "\n",
       "                                          inmobiliaria  \n",
       "0    [https://static1.sosiva451.com/452241_a/5b0a03...  \n",
       "1    [https://static1.sosiva451.com/452241_a/5b0a03...  \n",
       "2    [https://static1.sosiva451.com/347151_a/527a2f...  \n",
       "3    [No aparece Inmobiliaria, No aparece Inmobilia...  \n",
       "4    [https://static1.sosiva451.com/363841_a/510f74...  \n",
       "..                                                 ...  \n",
       "154                                                 []  \n",
       "155  [https://static1.sosiva451.com/t/48259012-a91a...  \n",
       "156  [https://static1.sosiva451.com/564301_a/7ba27b...  \n",
       "157  [https://static1.sosiva451.com/520641_a/227b8c...  \n",
       "158  [https://static1.sosiva451.com/309171_a/a6679a...  \n",
       "\n",
       "[159 rows x 7 columns]"
      ]
     },
     "execution_count": 176,
     "metadata": {},
     "output_type": "execute_result"
    }
   ],
   "source": [
    "df"
   ]
  },
  {
   "cell_type": "code",
   "execution_count": 177,
   "metadata": {},
   "outputs": [],
   "source": [
    "df['precio_vivienda'] = df['precio_vivienda'].apply(lambda x: [i.replace('\\n','').replace('  ','') for i in x])\n",
    "\n",
    "df['direccion_vivienda'] = df['direccion_vivienda'].apply(lambda x: [i.replace('\\n','').replace('  ','') for i in x])\n",
    "\n",
    "df['metros_cuadrados'] = df['metros_cuadrados'].apply(lambda x: [i.replace('\\n','').replace('  ','') for i in x])\n",
    "\n",
    "df['años_vivenda'] =df['años_vivenda'].apply(lambda x: [i.replace('\\n','').replace('  ','') for i in x])\n",
    "\n",
    "\n",
    "df['ambientes'] = df['ambientes'].apply(lambda x: [i.replace('\\n','').replace('  ','') for i in x])\n",
    "\n",
    "\n",
    "\n"
   ]
  },
  {
   "cell_type": "code",
   "execution_count": 178,
   "metadata": {},
   "outputs": [
    {
     "name": "stdout",
     "output_type": "stream",
     "text": [
      "[] 107 0\n",
      "[] 151 0\n",
      "[] 153 0\n",
      "[] 155 0\n",
      "['$', '$', 'USD', '$', 'USD', '$', '$', 'USD', 'USD', 'USD', '$', '$', '$'] 159 13\n"
     ]
    }
   ],
   "source": [
    "#Para saber que en que primera hoja de la columna faltan datos\n",
    "#first column\n",
    "\n",
    "contador=0\n",
    "\n",
    "for i in df['tipo_moneda']:\n",
    "    contador+=1\n",
    "    if len(i)!=20:\n",
    "        \n",
    "        print(i,contador,len(i))\n",
    "\n",
    "    \n"
   ]
  },
  {
   "cell_type": "code",
   "execution_count": 179,
   "metadata": {},
   "outputs": [
    {
     "name": "stdout",
     "output_type": "stream",
     "text": [
      "[] 107 0\n",
      "[] 151 0\n",
      "[] 153 0\n",
      "[] 155 0\n",
      "['$ 50.000', '$ 85.000+ $15.400expensas', 'USD 450', '$ 155.000+ $12.000expensas', 'USD 1.000+ $6.000expensas', '$ 120.000+ $22.000expensas', '$ 78.000+ $15.000expensas', 'USD 1.000+ $6.000expensas', 'USD 1.000+ $6.000expensas', 'USD 1.000+ $6.000expensas', '$ 70.000+ $1.300expensas', '$ 105.000+ $10.000expensas', '$ 80.000+ $8.000expensas'] 159 13\n"
     ]
    }
   ],
   "source": [
    "contador=0\n",
    "\n",
    "for i in df['precio_vivienda']:\n",
    "    contador+=1\n",
    "    if len(i)!=20:\n",
    "        \n",
    "        print(i,contador,len(i))\n"
   ]
  },
  {
   "cell_type": "code",
   "execution_count": 180,
   "metadata": {},
   "outputs": [
    {
     "name": "stdout",
     "output_type": "stream",
     "text": [
      "[] 107 0\n",
      "[] 151 0\n",
      "[] 153 0\n",
      "[] 155 0\n",
      "['Esmeralda 900', 'Charcas 3100', 'Av Lope de Vega 1000', 'AV SANTA FE 5200, Piso 8', 'JULIAN ALVAREZ al 2300 4AMBAMOBLADO C/DEPENDENC. 90Mts', 'Avenida Cabildo al 1500', 'Nogoyá 4400', 'JULIAN ALVAREZ al 2300 4AMBAMOBLADO C/DEPENDENC. 90Mts', 'JULIAN ALVAREZ al 2300 4AMBAMOBLADO C/DEPENDENC. 90Mts', 'JULIAN ALVAREZ al 2300 4AMBAMOBLADO C/DEPENDENC. 90Mts', 'Av Alberdi 500, Piso 2', 'HUMBOLDT al 1300', 'Aranguren al 500'] 159 13\n"
     ]
    }
   ],
   "source": [
    "contador=0\n",
    "\n",
    "for i in df['direccion_vivienda']:\n",
    "    contador+=1\n",
    "    if len(i)!=20:\n",
    "        \n",
    "        print(i,contador,len(i))"
   ]
  },
  {
   "cell_type": "code",
   "execution_count": 181,
   "metadata": {},
   "outputs": [
    {
     "name": "stdout",
     "output_type": "stream",
     "text": [
      "[] 107 0\n",
      "[] 151 0\n",
      "[] 153 0\n",
      "[] 155 0\n",
      "['Faltante', ' 34m² cubie.', ' 42m² cubie.', ' 55m² cubie.', ' 3 dorm.', ' 48m² cubie.', ' 36m² cubie.', ' 3 dorm.', ' 3 dorm.', ' 3 dorm.', ' 60m² cubie.', ' 32m² cubie.', ' 38m² cubie.'] 159 13\n"
     ]
    }
   ],
   "source": [
    "contador=0\n",
    "\n",
    "for i in df['metros_cuadrados']:\n",
    "    contador+=1\n",
    "    if len(i)!=20:\n",
    "        \n",
    "        print(i,contador,len(i))"
   ]
  },
  {
   "cell_type": "code",
   "execution_count": 182,
   "metadata": {},
   "outputs": [
    {
     "name": "stdout",
     "output_type": "stream",
     "text": [
      "[' 1 baño', ' 50 años', ' 1 baño', ' 40 años', ' 60 años', ' 80 años', ' 6 años', ' 60 años', ' 1 baño', ' 1 ambiente', ' 5 años', ' 50 años', ' 50 años', ' 50 años', 'Faltante', 'Faltante', ' 38 años', ' A Estrenar', ' 1 baño', ' 3 ambientes', ' 49 años'] 5 21\n",
      "[' 20 años', 'Faltante', 'Faltante', ' 15 años', ' 4 ambientes', ' 40 años', ' 18 años', ' 1 baño', ' 2 baños', ' 3 ambientes', ' 10 años', ' 1 baño', ' 2 ambientes', ' 1 baño', ' 1 baño', 'Faltante', ' 1 baño', ' 15 años', ' A Estrenar', ' 4 baños', ' 2 ambientes'] 7 21\n",
      "[' 30 años', ' 1 baño', ' 1 baño', 'Faltante', 'Faltante', 'Faltante', ' 70 años', ' A Estrenar', ' 8 años', ' 1 baño', ' 1 baño', ' 1 baño', ' 40 años', ' 40 años', ' 70 años', ' 30 años', ' A Estrenar', ' A Estrenar', ' Bueno', ' 8 años', ' 60 años'] 19 21\n",
      "[' 1 baño', ' 35 años', ' 3 ambientes', ' 38 años', 'Faltante', 'Faltante', ' 5 años', ' 1 baño', ' A Estrenar', ' 40 años', 'Faltante', 'Faltante', ' 5 años', ' A Estrenar', ' A Estrenar', ' A Estrenar', ' 9 años', ' 20 años', ' 1 baño', ' 6 años', 'Faltante', 'Faltante', ' 90 años'] 21 23\n",
      "['Faltante', 'Faltante', ' 40 años', ' 2 baños', ' 45 años', ' 10 años', ' 30 años', ' 15 años', ' 1 baño', ' 70 años', ' 40 años', ' 40 años', ' 2 ambientes', ' 1 baño', ' 30 años', ' 2 baños', ' 1 baño', ' 1 baño', ' 1 baño', ' A Estrenar', ' 72 años'] 23 21\n",
      "[' 45 años', ' 1 baño', ' 2 baños', ' A Estrenar', ' 100 años', ' 40 años', ' 20 años', ' 40 años', ' 1 baño', ' 4 ambientes', ' 1 baño', ' 1 toilettes', ' 1 baño', 'Faltante', 'Faltante', ' 35 años', ' 45 años', ' 14 años', ' 1 baño', ' 40 años', ' 1 baño'] 24 21\n",
      "['Faltante', 'Faltante', ' 47 años', ' 50 años', ' 9 años', ' Lateral', ' 1 baño', ' 2 años', ' 1 baño', ' 7 años', ' 40 años', ' 45 años', ' 12 años', ' 11 años', ' A Estrenar', ' 2 ambientes', ' 5 años', ' 1 baño', ' 70 años', ' 100 años', ' 2 ambientes'] 29 21\n",
      "[' 9 años', ' 2 ambientes', ' 60 años', ' 40 años', ' 60 años', ' 3 ambientes', ' 11 años', 'Faltante', 'Faltante', ' 15 años', ' 20 años', ' 40 años', ' 1 baño', ' 50 años', ' A Estrenar', ' 2 baños', ' A Estrenar', ' 45 años', ' 49 años', ' 40 años', ' 15 años'] 30 21\n",
      "[' 1 año', ' 35 años', 'Faltante', 'Faltante', ' 1 baño', ' 55 años', ' A Estrenar', ' 8 años', ' 1 baño', ' 30 años', ' 1 baño', ' 80 años', ' 40 años', ' 100 años', ' 70 años', ' 60 años', ' 30 años', ' 1 ambiente', ' 40 años', ' Frente', ' 15 años'] 31 21\n",
      "[' 45 años', ' 1 año', 'Faltante', 'Faltante', ' 20 años', ' 10 años', ' 60 años', ' 50 años', ' 65 años', ' A Estrenar', ' 60 años', ' 44 años', ' 1 baño', 'Faltante', 'Faltante', ' 2 ambientes', ' 3 años', ' 18 años', ' A Estrenar', ' 37 años', 'Faltante', 'Faltante', ' 35 años'] 34 23\n",
      "[' 25 años', ' 1 baño', ' 1 baño', ' 3 baños', ' 40 años', ' 60 años', ' 15 años', ' 3 años', ' 30 años', ' 1 baño', ' 50 años', ' 3 ambientes', 'Faltante', 'Faltante', ' 7 años', ' 10 años', ' 70 años', ' 1 baño', ' 13 años', ' 40 años', ' 3 ambientes'] 36 21\n",
      "[' A Estrenar', ' Apto profesi.', ' A Estrenar', ' 40 años', ' 48 años', ' 47 años', ' 45 años', ' 50 años', ' 40 años', 'Faltante', 'Faltante', ' 45 años', ' 65 años', ' 65 años', ' 3 baños', ' 5 años', ' 2 baños', ' 1 baño', ' 62 años', ' 4 ambientes', ' 40 años'] 46 21\n",
      "[' 50 años', ' 1 ambiente', ' 60 años', ' 22 años', ' 40 años', ' 30 años', ' 35 años', ' 40 años', ' 50 años', ' 40 años', ' 50 años', ' 1 baño', ' 50 años', ' 50 años', ' 40 años', ' 30 años', ' 30 años', ' 7 años', 'Faltante', 'Faltante', ' 1 baño'] 56 21\n",
      "[' 50 años', ' 1 baño', ' 3 ambientes', ' 1 baño', ' A Estrenar', ' 50 años', 'Faltante', ' 2 ambientes', ' 45 años', ' 45 años', ' 40 años', ' 1 baño', ' 58 años', ' 58 años', 'Faltante', 'Faltante', ' 1 baño', ' 15 años', ' 1 baño', ' 1 baño', ' 1 baño'] 58 21\n",
      "[' 1 baño', ' 1 baño', ' 5 años', ' 3 ambientes', ' 2 baños', ' 40 años', ' 1 baño', ' 10 años', ' 2 baños', ' 50 años', ' 1 baño', ' 50 años', ' Muy Bueno', ' 3 ambientes', ' 70 años', ' 37 años', 'Faltante', 'Faltante', ' 30 años', ' 50 años', ' 30 años'] 59 21\n",
      "[' 2 ambientes', ' 18 años', ' 15 años', ' 2 ambientes', ' 15 años', ' 1 baño', ' A Estrenar', ' 18 años', ' 40 años', ' 10 años', ' 40 años', ' 3 ambientes', ' 1 baño', 'Faltante', 'Faltante', ' 45 años', ' 50 años', ' 1 baño', ' 45 años', ' 2 baños', ' 50 años'] 76 21\n",
      "[' 1 baño', ' 30 años', ' 10 años', ' 10 años', ' A Estrenar', ' A Estrenar', ' 35 años', ' 35 años', ' 45 años', ' 50 años', ' A Estrenar', ' 40 años', 'Faltante', 'Faltante', ' 50 años', ' 20 años', ' 2 años', ' 57 años', ' 15 años', ' 3 baños', ' A Estrenar'] 90 21\n",
      "[' 14 años', ' 15 años', ' 1 baño', ' 60 años', ' 4 baños', ' 30 años', ' 4 años', ' 40 años', 'Faltante', 'Faltante', 'Faltante', 'Faltante', 'Faltante', 'Faltante', 'Faltante', 'Faltante', 'Faltante', 'Faltante', ' 50 años', ' 50 años', ' 5 años', ' A Estrenar', ' A Estrenar', ' 5 años', ' 40 años'] 91 25\n",
      "[' 30 años', ' 66 años', 'Faltante', 'Faltante', ' 3 ambientes', ' 2 baños', ' 16 años', ' 40 años', ' A Estrenar', ' 1 baño', ' A Estrenar', ' 1 año', ' 1 año', ' 1 año', ' A Estrenar', ' 70 años', ' 62 años', ' 10 años', ' 10 años', ' 10 años', ' 18 años'] 95 21\n",
      "[' 47 años', ' 6 años', ' 6 años', 'Faltante', 'Faltante', ' A Estrenar', ' 42 años', ' 2 ambientes', ' 10 años', ' 7 años', ' 47 años', ' 24 años', ' 25 años', ' 40 años', ' 1 baño', ' 40 años', ' 60 años', ' 15 años', ' 1 baño', ' 10 años', ' A Estrenar'] 102 21\n",
      "[] 107 0\n",
      "[' 40 años', ' 48 años', ' 35 años', ' A Estrenar', ' 1 baño', ' 30 años', ' 1 baño', ' 25 años', ' 1 baño', ' 10 años', ' 10 años', ' 42 años', ' 23 años', 'Faltante', 'Faltante', ' 7 años', ' 1 baño', ' 50 años', ' 62 años', ' 15 años', ' A Estrenar'] 147 21\n",
      "[' 1 baño', ' 15 años', ' 2 ambientes', ' 1 baño', ' 10 años', ' A Estrenar', ' 35 años', ' 62 años', ' 15 años', 'Faltante', 'Faltante', ' 1 baño', ' 2 baños', ' 28 años', ' 1 baño', ' 10 años', ' 10 años', ' 35 años', ' 45 años', ' 45 años', ' 8 años'] 148 21\n",
      "[] 151 0\n",
      "[] 153 0\n",
      "[] 155 0\n",
      "['Faltante', 'Faltante', ' 12 años', ' A Estrenar', ' 45 años', ' 1 baño', ' 70 años', ' 17 años', ' 1 baño', ' 1 baño', ' 1 baño', ' 50 años', ' A Estrenar', ' 50 años'] 159 14\n"
     ]
    }
   ],
   "source": [
    "contador=0\n",
    "\n",
    "for i in df['años_vivenda']:\n",
    "    contador+=1\n",
    "    if len(i)!=20:\n",
    "        \n",
    "        print(i,contador,len(i))\n",
    "\n",
    "#50 años index 12\n",
    "\n",
    "#20 años index 1, #faltante index 2, ultimo index Faltante agregar\n",
    "\n",
    "#Faltante index 3\n",
    "\n",
    "#Faltante ultimo ,#Faltante 11, #Faltante 3\n",
    "\n",
    "\n"
   ]
  },
  {
   "cell_type": "code",
   "execution_count": 183,
   "metadata": {},
   "outputs": [
    {
     "name": "stdout",
     "output_type": "stream",
     "text": [
      "[' 10 años', ' 1 dorm.', ' 18 años', ' 3 dorm.', ' Monoam.', ' 2 dorm.', ' 3 dorm.', ' 2 dorm.', ' 70 años', ' 1 baño', ' 1 dorm.', ' 1 dorm.', ' 1 dorm.', ' 1 dorm.', ' 3 dorm.', ' Monoam.', ' 2 dorm.', ' 1 baño', ' 2 dorm.'] 5 19\n",
      "[' 3 dorm.', ' 2 dorm.', ' 3 baños', ' 3 dorm.', ' 3 dorm.', ' A Estrenar', ' 3 dorm.', ' 2 dorm.', ' Monoam.', ' 2 dorm.', ' 1 baño', ' 35 años', ' 1 dorm.', ' 1 ambiente', ' 40 años', ' 2 dorm.', ' Monoam.', ' 3 dorm.', ' 1 baño'] 7 19\n",
      "[' 2 dorm.', ' 30 años', ' 24 años', ' 3 ambientes', ' 2 dorm.', ' 2 dorm.', ' 2 dorm.', ' Monoam.', ' 2 dorm.', ' 20 años', ' 1 dorm.', ' 1 dorm.', ' Monoam.', ' 1 dorm.', ' 1 dorm.', ' 1 dorm.', ' 1 baño', ' 1 dorm.', ' 2 dorm.'] 19 19\n",
      "[' 1 dorm.', ' 2 dorm.', ' 25 años', ' 2 dorm.', ' Monoam.', ' 1 dorm.', ' 1 dorm.', ' 1 dorm.', ' Monoam.', ' Monoam.', ' 1 dorm.', ' Monoam.', ' 1 dorm.', ' Monoam.', ' 40 años', ' 1 dorm.', ' 2 dorm.'] 21 17\n",
      "[' Monoam.', ' 45 años', ' 3 dorm.', ' 1 dorm.', ' 1 dorm.', ' 1 dorm.', ' 1 dorm.', ' 3 dorm.', ' 1 dorm.', ' 2 dorm.', ' 2 años', ' 2 dorm.', ' 1 dorm.', ' 2 dorm.', ' 1 dorm.', ' 1 dorm.', ' 2 dorm.', ' 1 dorm.', ' 1 dorm.'] 23 19\n",
      "[' 1 dorm.', ' Monoam.', ' 3 dorm.', ' Monoam.', ' 3 dorm.', ' 2 dorm.', ' 2 dorm.', ' 3 dorm.', ' 1 dorm.', ' 1 baño', ' 1 dorm.', ' 3 ambientes', ' 1 dorm.', ' 1 dorm.', ' 1 dorm.', ' 3 dorm.', ' Monoam.', ' 1 dorm.', ' 1 dorm.'] 24 19\n",
      "[' 2 dorm.', ' 3 dorm.', ' 1 dorm.', ' 1 baño', ' 1 dorm.', ' 1 dorm.', ' 55 años', ' Monoam.', ' 2 dorm.', ' 2 dorm.', ' 1 dorm.', ' 2 dorm.', ' Monoam.', ' 1 baño', ' 1 dorm.', ' Monoam.', ' 2 dorm.', ' Monoam.', ' 1 baño'] 29 19\n",
      "[' 3 dorm.', ' 1 baño', ' 1 dorm.', ' 2 dorm.', ' 1 dorm.', ' 1 baño', ' 1 dorm.', ' 2 dorm.', ' 2 dorm.', ' 2 dorm.', ' 1 dorm.', ' 1 dorm.', ' Monoam.', ' 55 años', ' 1 dorm.', ' 2 dorm.', ' 1 dorm.', ' 1 dorm.', ' Monoam.'] 30 19\n",
      "[' 2 dorm.', ' 3 dorm.', ' 18 años', ' 2 dorm.', ' 2 dorm.', ' 1 dorm.', ' 1 dorm.', ' 2 dorm.', ' 1 dorm.', ' 1 dorm.', ' 1 dorm.', ' 2 dorm.', ' Monoam.', ' 1 dorm.', ' 3 dorm.', ' Monoam.', ' 2 dorm.', ' 1 baño', ' 2 dorm.'] 31 19\n",
      "[' 1 dorm.', ' Monoam.', ' 2 dorm.', ' 4 dorm.', ' 1 dorm.', ' 2 dorm.', ' 2 dorm.', ' 4 dorm.', ' 2 dorm.', ' 2 dorm.', ' 1 dorm.', ' 1 baño', ' Monoam.', ' 2 dorm.', ' 3 dorm.', ' 5 dorm.', ' 2 dorm.'] 34 17\n",
      "[' 2 dorm.', ' 1 dorm.', ' 2 dorm.', ' 3 dorm.', ' Monoam.', ' 3 dorm.', ' 1 dorm.', ' 1 dorm.', ' 1 dorm.', ' 1 dorm.', ' 1 dorm.', ' 2 dorm.', ' 1 dorm.', ' 2 dorm.', ' 2 dorm.', ' Monoam.', ' 2 dorm.', ' 3 dorm.', ' 2 dorm.'] 36 19\n",
      "[' 3 dorm.', ' A Estrenar', ' 1 dorm.', ' 1 dorm.', ' 3 dorm.', ' 2 dorm.', ' 1 dorm.', ' 2 dorm.', ' 3 dorm.', ' 3 dorm.', ' 3 dorm.', ' 4 dorm.', ' 3 dorm.', ' Monoam.', ' 3 dorm.', ' 1 dorm.', ' 4 dorm.', ' 3 dorm.', ' 2 dorm.'] 46 19\n",
      "[' 1 dorm.', ' Monoam.', ' 2 dorm.', ' 1 dorm.', ' 1 dorm.', ' 1 dorm.', ' 1 dorm.', ' 2 dorm.', ' 1 dorm.', ' 4 dorm.', ' 3 dorm.', ' 2 dorm.', ' 3 dorm.', ' 1 dorm.', ' 1 dorm.', ' 2 dorm.', ' 2 dorm.', ' Monoam.', ' 30 años'] 56 19\n",
      "[' 2 dorm.', ' 25 años', ' 2 dorm.', ' 6 años', ' 1 dorm.', ' 2 dorm.', ' 2 ambientes', ' 1 baño', ' 3 dorm.', ' 3 dorm.', ' 2 dorm.', ' 1 dorm.', ' 2 dorm.', ' 2 dorm.', ' Monoam.', ' 2 dorm.', ' 1 dorm.', ' 1 dorm.', ' 2 dorm.'] 58 19\n",
      "[' 2 dorm.', ' 1 dorm.', ' 1 dorm.', ' 2 dorm.', ' 2 dorm.', ' 1 dorm.', ' 50 años', ' 1 dorm.', ' 4 dorm.', ' 1 dorm.', ' 1 dorm.', ' 2 dorm.', ' 2 ambientes', ' 2 dorm.', ' 1 dorm.', ' Monoam.', ' 1 dorm.', ' 1 dorm.', ' 1 dorm.'] 59 19\n",
      "[' 1 dorm.', ' 3 dorm.', ' 1 dorm.', ' 1 dorm.', ' Monoam.', ' 1 dorm.', ' 1 dorm.', ' 2 dorm.', ' Monoam.', ' 4 dorm.', ' 1 dorm.', ' 1 baño', ' 1 dorm.', ' 2 dorm.', ' Monoam.', ' 1 dorm.', ' Monoam.', ' 2 dorm.', ' 1 dorm.'] 76 19\n",
      "[' 8 años', ' 4 dorm.', ' 3 dorm.', ' 3 dorm.', ' 1 dorm.', ' Monoam.', ' 3 dorm.', ' 2 dorm.', ' 4 dorm.', ' 3 dorm.', ' 2 dorm.', ' 3 dorm.', ' 3 dorm.', ' 4 dorm.', ' 3 dorm.', ' 2 dorm.', ' 1 dorm.', ' A Estrenar', ' 2 dorm.'] 90 19\n",
      "[' 1 dorm.', ' 3 dorm.', ' A Estrenar', ' 4 dorm.', ' A Estrenar', ' 5 dorm.', ' 1 dorm.', ' Monoam.', ' 1 dorm.', ' 1 dorm.', ' Monoam.', ' 2 dorm.', ' 2 dorm.', ' 1 dorm.', ' 3 dorm.'] 91 15\n",
      "[' 2 dorm.', ' 1 dorm.', ' 2 baños', ' 3 dorm.', ' Monoam.', ' 3 dorm.', ' 3 dorm.', ' 1 dorm.', ' 4 dorm.', ' Monoam.', ' 1 dorm.', ' 1 dorm.', ' Monoam.', ' 2 dorm.', ' 5 dorm.', ' 1 dorm.', ' 1 dorm.', ' Monoam.', ' 2 dorm.'] 95 19\n",
      "[' 4 dorm.', ' 1 dorm.', ' 1 dorm.', ' 3 dorm.', ' 3 dorm.', ' A Estrenar', ' 1 dorm.', ' 3 dorm.', ' Monoam.', ' 3 dorm.', ' 3 dorm.', ' 3 dorm.', ' Monoam.', ' 4 dorm.', ' 3 dorm.', ' 3 dorm.', ' 2 dorm.', ' 6 dorm.', ' 2 dorm.'] 102 19\n",
      "[] 107 0\n",
      "[' 1 dorm.', ' Monoam.', ' 1 dorm.', ' Monoam.', ' 10 años', ' 2 dorm.', ' 1 dorm.', ' 3 dorm.', ' 1 dorm.', ' 1 dorm.', ' 1 dorm.', ' 3 dorm.', ' 3 dorm.', ' 1 dorm.', ' 50 años', ' 1 dorm.', ' 2 dorm.', ' 1 dorm.', ' 1 dorm.'] 147 19\n",
      "[' 1 dorm.', ' 1 dorm.', ' 45 años', ' 50 años', ' Monoam.', ' 2 dorm.', ' 1 dorm.', ' 1 dorm.', ' 3 dorm.', ' 45 años', ' 40 años', ' Monoam.', ' 2 dorm.', ' Monoam.', ' Monoam.', ' 1 dorm.', ' 1 dorm.', ' 2 dorm.', ' Monoam.'] 148 19\n",
      "[] 151 0\n",
      "[] 153 0\n",
      "[] 155 0\n",
      "[' Monoam.', ' 1 dorm.', ' 2 dorm.', ' 30 años', ' 1 dorm.', ' 1 dorm.', ' 30 años', ' 30 años', ' 30 años', ' 2 dorm.', ' Monoam.', ' 1 dorm.'] 159 12\n"
     ]
    }
   ],
   "source": [
    "contador=0\n",
    "\n",
    "for i in df['ambientes']:\n",
    "    contador+=1\n",
    "    if len(i)!=20:\n",
    "        \n",
    "        print(i,contador,len(i))"
   ]
  },
  {
   "cell_type": "code",
   "execution_count": 198,
   "metadata": {},
   "outputs": [
    {
     "name": "stdout",
     "output_type": "stream",
     "text": [
      "[] 107 0\n",
      "['https://static1.sosiva451.com/034382_a/baab8de1-1199-456b-af30-a7b0edee4e50_small.jpg', 'https://static1.sosiva451.com/720102_a/f7123566-5356-4405-9cd9-35ad46a49786_small.jpg', 'https://static1.sosiva451.com/508752_a/900f234a-c3c4-4920-a095-4431a616ed02_small.jpg', 'No aparece Inmobiliaria', 'https://static1.sosiva451.com/571812_a/f22f66e7-1310-4cc6-9ab6-cfa5d662abf6_small.jpg', 'https://static1.sosiva451.com/385611_a/9883a965-7db7-4c5c-aa30-92747b79ee05_small.jpg', 'https://static1.sosiva451.com/773462_a/53cc3e26-1280-43ba-894a-30e746f729e9_small.jpg', 'https://static1.sosiva451.com/773462_a/53cc3e26-1280-43ba-894a-30e746f729e9_small.jpg', 'No aparece Inmobiliaria', 'https://static1.sosiva451.com/483201_a/e914aff9-dff6-4aa8-b4fe-2772eff1b269_small.jpg', 'https://static1.sosiva451.com/698351_a/a6b84329-d63c-42df-ba35-78b1a0ecb6f1_small.jpg', 'https://static1.sosiva451.com/698351_a/a6b84329-d63c-42df-ba35-78b1a0ecb6f1_small.jpg', 'https://static1.sosiva451.com/698351_a/a6b84329-d63c-42df-ba35-78b1a0ecb6f1_small.jpg', 'https://static1.sosiva451.com/285761_a/fd59ef04-81a2-4749-8ef4-eba630e92d66_small.jpg', 'https://static1.sosiva451.com/308172_a/02950e23-586f-4d91-9aeb-36331b2bb57b_small.jpg', 'https://static1.sosiva451.com/485442_a/92f297fc-ffb5-484b-9584-228e69dff822_small.jpg', 'https://static1.sosiva451.com/176731_a/1cec9caa-3fcd-4e94-8188-fc5030d3a672_small.jpg', 'https://static1.sosiva451.com/176731_a/1cec9caa-3fcd-4e94-8188-fc5030d3a672_small.jpg', 'https://static1.sosiva451.com/547152_a/cae74ce2-a75b-42cd-a8a6-28b3d58655ca_small.jpg'] 134 19\n",
      "[] 151 0\n",
      "[] 153 0\n",
      "[] 155 0\n",
      "['https://static1.sosiva451.com/309171_a/a6679a5b-97cf-492b-9223-e4b2201a24b7_small.jpg', 'https://static1.sosiva451.com/988101_a/0d506f9a-2059-45a4-b215-e603ea9fcfe1_small.jpg', 'https://static1.sosiva451.com/672852_a/05129f13-b58e-4d53-94a0-8c8db9289a58_small.jpg', 'https://static1.sosiva451.com/901631_a/e99ed4a7-b356-4cfe-9e0d-303f47e35ddf_small.jpg', 'https://static1.sosiva451.com/474132_a/56461bec-9d04-4a73-bee1-f747760484fa_small.jpg', 'https://static1.sosiva451.com/311371_a/656ea040-0690-487c-a0c9-f60a4faa8b63_small.jpg', 'https://static1.sosiva451.com/781051_a/32e1dc7a-99d8-43a2-8e51-0b8a6a76a900_small.jpg', 'https://static1.sosiva451.com/474132_a/56461bec-9d04-4a73-bee1-f747760484fa_small.jpg', 'https://static1.sosiva451.com/474132_a/56461bec-9d04-4a73-bee1-f747760484fa_small.jpg', 'https://static1.sosiva451.com/474132_a/56461bec-9d04-4a73-bee1-f747760484fa_small.jpg', 'https://static1.sosiva451.com/802101_a/0b4d0d68-1ff8-468a-8892-e8bdc227ca0d_small.jpg', 'https://static1.sosiva451.com/858101_a/16ada489-6c15-4a0d-883a-25b3c0a40626_small.jpg', 'https://static1.sosiva451.com/361101_a/95d45a65-675c-497f-8aa6-b1a2ad431681_small.jpg'] 159 13\n"
     ]
    }
   ],
   "source": [
    "contador=0\n",
    "\n",
    "for i in df['inmobiliaria']:\n",
    "    contador+=1\n",
    "    if len(i)!=20:\n",
    "        \n",
    "        print(i,contador,len(i))"
   ]
  },
  {
   "cell_type": "code",
   "execution_count": 184,
   "metadata": {},
   "outputs": [
    {
     "name": "stdout",
     "output_type": "stream",
     "text": [
      "['USD', 'USD', 'USD', '$', '$', '$', '$', '$', '$', '$', '$', '$', '$', '$', '$', '$', 'USD', '$', '$', '$'] 20\n",
      "['USD', 'USD', 'USD', '$', '$', '$', '$', '$', '$', '$', '$', '$', '$', '$', '$', '$', 'USD', '$', '$', '$'] 20\n",
      "['$', '$', '$', '$', 'USD', '$', '$', '$', '$', '$', '$', '$', '$', '$', '$', '$', '$', '$', '$', '$'] 20\n",
      "['$', '$', '$', '$', '$', '$', '$', '$', 'USD', '$', '$', '$', '$', '$', 'faltante', '$', '$', 'USD', '$', '$'] 20\n",
      "['$', '$', 'USD', '$', '$', '$', 'USD', '$', '$', 'faltante', '$', '$', '$', '$', '$', '$', '$', '$', '$', '$'] 20\n",
      "['$', '$', '$', '$', '$', '$', '$', '$', '$', '$', 'USD', '$', 'USD', '$', 'USD', 'USD', '$', '$', '$', '$'] 20\n",
      "['USD', '$', 'USD', 'USD', 'USD', 'USD', '$', 'USD', '$', '$', '$', '$', '$', '$', 'faltante', '$', 'faltante', '$', 'USD', '$'] 20\n",
      "['faltante', '$', '$', 'USD', '$', '$', '$', '$', '$', '$', '$', '$', '$', '$', '$', '$', '$', '$', '$', '$'] 20\n",
      "['$', '$', '$', 'USD', 'faltante', '$', '$', '$', '$', '$', 'USD', 'faltante', '$', '$', '$', '$', 'USD', '$', '$', '$'] 20\n",
      "['USD', '$', 'USD', '$', '$', '$', '$', '$', '$', '$', '$', '$', 'USD', '$', '$', '$', '$', '$', '$', '$'] 20\n",
      "['$', '$', '$', '$', '$', '$', '$', '$', '$', '$', 'USD', '$', '$', '$', 'USD', 'USD', '$', '$', 'USD', '$'] 20\n",
      "['$', '$', 'USD', 'USD', 'USD', 'USD', '$', '$', '$', 'USD', '$', '$', '$', '$', '$', '$', '$', '$', '$', '$'] 20\n",
      "['$', '$', '$', 'USD', 'USD', '$', 'USD', 'USD', '$', '$', '$', 'USD', 'USD', '$', 'USD', '$', '$', '$', '$', '$'] 20\n",
      "['$', '$', 'USD', 'USD', '$', '$', '$', '$', '$', '$', '$', '$', '$', '$', '$', '$', '$', '$', '$', '$'] 20\n",
      "['$', '$', '$', '$', '$', 'USD', 'USD', '$', '$', 'USD', '$', 'USD', '$', '$', '$', '$', '$', '$', '$', '$'] 20\n",
      "['USD', '$', '$', '$', '$', '$', '$', 'USD', '$', '$', '$', '$', '$', 'USD', 'USD', '$', '$', '$', '$', 'USD'] 20\n",
      "['USD', '$', 'USD', 'USD', 'USD', '$', 'USD', '$', '$', '$', '$', '$', '$', '$', '$', 'USD', '$', '$', '$', '$'] 20\n",
      "['$', '$', '$', '$', '$', '$', '$', '$', 'USD', 'USD', 'USD', '$', '$', '$', '$', '$', '$', '$', '$', '$'] 20\n",
      "['$', '$', '$', '$', '$', '$', '$', '$', '$', '$', '$', '$', '$', '$', '$', '$', '$', '$', '$', '$'] 20\n",
      "['$', '$', 'USD', '$', 'USD', '$', '$', '$', '$', 'USD', '$', 'USD', 'USD', '$', '$', '$', '$', '$', '$', '$'] 20\n",
      "['$', '$', 'USD', '$', 'USD', '$', '$', '$', '$', '$', '$', '$', '$', '$', '$', 'USD', '$', '$', '$', '$'] 20\n",
      "['$', '$', 'USD', '$', '$', '$', '$', 'USD', '$', 'USD', 'USD', 'USD', '$', '$', 'USD', '$', 'USD', '$', '$', '$'] 20\n",
      "['$', '$', '$', '$', '$', '$', '$', '$', '$', '$', '$', '$', '$', '$', '$', '$', '$', '$', '$', 'USD'] 20\n",
      "['$', '$', 'USD', '$', 'USD', '$', 'USD', '$', '$', '$', '$', '$', '$', '$', '$', '$', 'USD', '$', '$', '$'] 20\n",
      "['$', 'USD', '$', '$', '$', '$', '$', '$', '$', '$', '$', '$', '$', '$', '$', '$', '$', 'USD', '$', 'USD'] 20\n",
      "['USD', '$', '$', '$', '$', '$', 'USD', '$', 'USD', 'USD', 'USD', '$', '$', '$', '$', '$', 'faltante', 'USD', '$', 'USD'] 20\n",
      "['USD', '$', '$', '$', '$', '$', 'USD', '$', '$', '$', 'USD', 'USD', '$', '$', '$', '$', 'USD', '$', 'USD', '$'] 20\n",
      "['$', '$', 'faltante', '$', '$', '$', '$', '$', '$', '$', '$', '$', '$', '$', '$', '$', '$', '$', '$', '$'] 20\n",
      "['$', '$', '$', '$', '$', '$', '$', '$', '$', 'USD', '$', '$', '$', '$', '$', 'USD', 'faltante', 'USD', 'USD', '$'] 20\n",
      "['USD', '$', '$', '$', '$', '$', '$', '$', '$', 'USD', '$', '$', '$', '$', '$', 'USD', '$', '$', '$', 'USD'] 20\n",
      "['$', 'USD', 'USD', '$', '$', '$', '$', 'USD', '$', '$', '$', '$', 'USD', '$', '$', '$', '$', '$', '$', '$'] 20\n",
      "['USD', '$', 'USD', '$', '$', '$', 'USD', '$', '$', '$', 'USD', '$', '$', '$', '$', '$', '$', '$', '$', '$'] 20\n",
      "['$', '$', '$', '$', '$', '$', '$', '$', '$', '$', 'USD', '$', '$', '$', '$', '$', '$', '$', '$', 'USD'] 20\n",
      "['$', '$', '$', '$', '$', '$', '$', '$', 'USD', 'USD', '$', '$', '$', '$', '$', 'USD', '$', 'USD', '$', '$'] 20\n",
      "['$', '$', '$', '$', '$', '$', 'USD', '$', '$', 'USD', 'USD', 'USD', '$', '$', 'USD', '$', '$', '$', '$', '$'] 20\n",
      "['$', '$', '$', 'USD', '$', 'USD', '$', '$', 'USD', '$', '$', '$', '$', '$', '$', '$', '$', '$', 'USD', '$'] 20\n",
      "['USD', '$', '$', '$', '$', '$', '$', '$', '$', '$', '$', '$', '$', 'USD', 'USD', '$', 'USD', '$', '$', '$'] 20\n",
      "['$', '$', '$', '$', '$', '$', '$', '$', '$', '$', '$', '$', '$', '$', 'USD', '$', '$', '$', '$', '$'] 20\n",
      "['$', '$', '$', '$', '$', '$', 'USD', 'USD', '$', '$', '$', '$', 'USD', '$', '$', '$', '$', '$', '$', '$'] 20\n",
      "['$', '$', '$', 'USD', 'USD', 'USD', 'USD', 'USD', 'USD', 'USD', '$', '$', '$', '$', '$', 'USD', '$', '$', '$', '$'] 20\n",
      "['$', '$', '$', '$', '$', '$', '$', '$', 'USD', 'USD', 'USD', 'USD', 'USD', 'USD', 'USD', 'USD', 'USD', 'USD', 'USD', 'USD'] 20\n",
      "['$', '$', '$', '$', '$', '$', 'USD', '$', 'USD', 'USD', 'USD', '$', 'USD', 'USD', 'USD', '$', '$', 'USD', 'USD', '$'] 20\n",
      "['USD', 'USD', 'USD', '$', 'USD', '$', 'USD', 'USD', 'USD', 'USD', 'USD', 'USD', '$', 'USD', '$', 'USD', '$', '$', 'USD', 'USD'] 20\n",
      "['$', 'USD', '$', 'USD', 'USD', 'USD', 'USD', 'USD', 'USD', 'USD', 'USD', 'USD', 'USD', 'USD', 'USD', 'USD', '$', 'USD', 'USD', '$'] 20\n",
      "['$', 'USD', 'USD', '$', '$', '$', '$', '$', 'USD', '$', '$', 'USD', '$', '$', '$', 'USD', '$', '$', '$', '$'] 20\n",
      "['$', '$', '$', '$', 'USD', '$', '$', 'USD', 'USD', '$', '$', 'USD', 'USD', 'USD', '$', '$', '$', 'USD', '$', '$'] 20\n",
      "['faltante', '$', '$', 'USD', 'USD', 'USD', 'USD', 'USD', '$', 'USD', '$', '$', '$', '$', '$', '$', '$', '$', '$', '$'] 20\n",
      "['$', '$', '$', '$', '$', '$', '$', '$', '$', '$', '$', '$', '$', '$', '$', '$', '$', '$', '$', '$'] 20\n",
      "['$', '$', '$', '$', '$', '$', '$', '$', 'USD', '$', '$', '$', '$', '$', 'USD', '$', '$', '$', '$', '$'] 20\n",
      "['$', '$', '$', '$', '$', '$', '$', '$', '$', 'USD', 'USD', '$', '$', '$', '$', '$', '$', '$', 'USD', 'USD'] 20\n",
      "['USD', 'USD', 'USD', '$', 'USD', 'USD', '$', '$', '$', '$', '$', '$', 'USD', '$', '$', '$', '$', '$', '$', '$'] 20\n",
      "['$', '$', '$', '$', '$', '$', 'USD', '$', '$', 'USD', '$', '$', '$', 'USD', 'USD', '$', '$', '$', '$', '$'] 20\n",
      "['$', '$', '$', '$', '$', '$', '$', '$', '$', '$', '$', '$', '$', '$', '$', '$', '$', '$', 'USD', 'USD'] 20\n",
      "['USD', '$', 'USD', '$', '$', '$', '$', '$', '$', '$', '$', '$', '$', '$', '$', '$', '$', '$', '$', '$'] 20\n",
      "['$', '$', '$', '$', '$', '$', '$', '$', 'USD', '$', '$', '$', '$', '$', '$', '$', '$', '$', '$', '$'] 20\n",
      "['$', '$', '$', '$', '$', '$', '$', 'USD', '$', 'USD', '$', '$', '$', '$', 'USD', '$', '$', '$', '$', '$'] 20\n",
      "['USD', '$', '$', 'USD', 'USD', '$', '$', '$', '$', '$', '$', '$', '$', '$', '$', '$', '$', '$', '$', '$'] 20\n",
      "['$', '$', '$', '$', '$', '$', '$', '$', '$', '$', '$', '$', '$', '$', '$', '$', '$', '$', '$', '$'] 20\n",
      "['$', '$', '$', '$', '$', '$', '$', '$', '$', '$', '$', '$', '$', '$', '$', '$', '$', '$', '$', '$'] 20\n",
      "['$', '$', '$', '$', '$', 'USD', 'USD', 'USD', 'USD', 'USD', 'USD', '$', 'USD', 'USD', 'USD', 'USD', 'USD', 'USD', 'USD', 'USD'] 20\n",
      "['USD', 'USD', 'USD', 'faltante', 'faltante', 'faltante', '$', 'USD', 'USD', 'USD', 'USD', '$', 'USD', '$', 'USD', '$', 'USD', '$', '$', 'USD'] 20\n",
      "['USD', 'USD', 'USD', 'USD', '$', 'USD', 'USD', '$', 'USD', '$', '$', 'USD', '$', 'USD', '$', 'USD', '$', '$', 'USD', 'USD'] 20\n",
      "['USD', 'USD', '$', 'USD', 'USD', 'USD', 'USD', '$', '$', 'USD', 'USD', '$', 'USD', 'USD', '$', 'USD', '$', 'USD', 'USD', 'USD'] 20\n",
      "['$', '$', 'USD', 'USD', '$', '$', 'USD', 'USD', 'USD', '$', 'USD', 'USD', '$', '$', '$', '$', 'USD', '$', '$', '$'] 20\n",
      "['USD', '$', '$', 'USD', 'USD', 'USD', 'USD', '$', 'USD', '$', 'USD', '$', '$', 'USD', '$', '$', '$', '$', '$', '$'] 20\n",
      "['$', 'USD', '$', '$', '$', 'USD', '$', '$', '$', '$', '$', '$', '$', 'USD', '$', '$', '$', '$', '$', '$'] 20\n",
      "['$', 'USD', '$', '$', '$', '$', '$', '$', '$', '$', '$', '$', '$', '$', '$', '$', 'USD', '$', '$', '$'] 20\n",
      "['$', 'USD', 'USD', 'USD', '$', 'faltante', '$', 'USD', '$', 'USD', '$', '$', '$', '$', '$', '$', '$', '$', 'USD', '$'] 20\n",
      "['$', '$', '$', '$', '$', '$', '$', '$', '$', '$', '$', '$', '$', '$', '$', '$', '$', '$', '$', 'USD'] 20\n",
      "['$', '$', '$', '$', 'USD', '$', '$', '$', '$', '$', '$', '$', '$', 'USD', '$', 'USD', '$', '$', '$', '$'] 20\n",
      "['USD', '$', '$', 'USD', '$', '$', '$', '$', 'USD', '$', '$', '$', '$', '$', '$', '$', 'USD', '$', '$', '$'] 20\n",
      "['USD', 'USD', '$', '$', 'faltante', 'USD', '$', '$', '$', '$', '$', '$', '$', '$', '$', 'USD', 'USD', '$', '$', '$'] 20\n",
      "['$', '$', '$', '$', '$', '$', '$', '$', '$', '$', '$', '$', '$', '$', '$', '$', '$', '$', '$', '$'] 20\n",
      "['$', '$', '$', '$', '$', '$', 'USD', '$', '$', '$', '$', '$', '$', '$', '$', '$', '$', '$', '$', '$'] 20\n",
      "['$', '$', '$', '$', '$', '$', '$', '$', '$', '$', '$', '$', '$', '$', '$', '$', '$', '$', 'USD', '$'] 20\n",
      "['$', '$', '$', '$', 'USD', '$', '$', '$', '$', 'USD', '$', '$', '$', '$', '$', '$', '$', '$', '$', '$'] 20\n",
      "['$', '$', '$', '$', '$', '$', '$', 'USD', '$', 'USD', 'USD', 'USD', 'USD', 'USD', 'USD', 'USD', 'USD', 'USD', '$', 'USD'] 20\n",
      "['USD', 'USD', 'USD', 'USD', 'USD', 'USD', 'USD', 'USD', 'USD', 'USD', 'USD', 'USD', 'USD', 'USD', 'USD', '$', 'USD', 'USD', 'USD', 'USD'] 20\n",
      "['$', 'USD', 'USD', 'USD', 'USD', 'USD', 'USD', 'USD', 'USD', '$', 'USD', 'USD', 'USD', 'USD', 'USD', 'USD', 'faltante', 'USD', 'USD', 'USD'] 20\n",
      "['$', 'USD', 'USD', '$', '$', 'USD', '$', 'USD', 'USD', 'USD', 'USD', 'USD', 'USD', '$', 'USD', 'USD', 'USD', 'USD', 'USD', 'USD'] 20\n",
      "['USD', 'USD', 'USD', '$', 'USD', 'USD', 'USD', '$', 'USD', 'USD', '$', 'USD', 'faltante', 'USD', '$', 'USD', 'USD', '$', '$', '$'] 20\n",
      "['USD', 'USD', 'USD', '$', '$', 'USD', 'USD', 'USD', '$', 'USD', 'USD', 'USD', 'USD', 'USD', '$', 'USD', '$', 'USD', 'USD', 'USD'] 20\n",
      "['USD', 'USD', 'USD', '$', '$', 'USD', '$', 'USD', 'USD', '$', 'USD', 'USD', 'USD', 'USD', 'USD', 'USD', 'USD', '$', '$', 'USD'] 20\n",
      "['$', 'USD', '$', '$', '$', '$', 'USD', 'USD', '$', 'USD', 'USD', 'USD', 'USD', '$', 'USD', 'USD', 'USD', 'USD', 'USD', 'USD'] 20\n",
      "['USD', 'USD', 'USD', 'USD', 'USD', 'USD', 'USD', 'USD', 'USD', 'USD', 'USD', 'USD', 'USD', 'USD', 'USD', 'USD', '$', 'USD', 'faltante', 'USD'] 20\n",
      "['USD', '$', 'USD', '$', 'USD', 'USD', '$', 'faltante', '$', 'USD', 'USD', 'USD', '$', '$', 'USD', '$', '$', '$', '$', 'USD'] 20\n",
      "['$', 'USD', '$', '$', '$', 'USD', 'USD', 'USD', 'USD', '$', 'USD', 'USD', 'USD', 'USD', 'USD', 'USD', 'USD', 'USD', 'USD', 'USD'] 20\n",
      "['USD', '$', 'USD', '$', 'USD', '$', 'USD', 'USD', 'USD', 'USD', 'USD', '$', '$', '$', 'USD', '$', '$', '$', 'USD', '$'] 20\n",
      "['USD', 'USD', 'USD', '$', 'USD', '$', '$', 'USD', 'USD', 'USD', '$', '$', '$', 'USD', 'USD', '$', 'USD', '$', 'USD', 'USD'] 20\n",
      "['USD', 'USD', 'USD', 'USD', 'USD', '$', 'USD', 'USD', '$', '$', 'USD', 'USD', '$', 'USD', 'USD', 'USD', 'USD', 'USD', 'USD', '$'] 20\n",
      "['USD', 'USD', 'USD', 'USD', 'USD', '$', 'USD', '$', '$', '$', '$', '$', '$', '$', 'USD', '$', '$', '$', 'USD', 'USD'] 20\n",
      "['USD', 'USD', 'USD', 'USD', 'USD', 'USD', 'USD', 'USD', 'USD', 'USD', 'USD', 'USD', 'USD', 'USD', '$', 'USD', 'USD', '$', 'USD', '$'] 20\n",
      "['USD', 'USD', '$', 'USD', 'USD', 'USD', '$', '$', 'USD', '$', 'USD', 'USD', 'USD', 'USD', 'USD', 'USD', 'USD', 'USD', '$', 'USD'] 20\n",
      "['USD', '$', 'USD', 'USD', '$', '$', 'USD', '$', '$', '$', 'USD', 'USD', 'USD', 'USD', '$', 'USD', '$', 'USD', 'USD', '$'] 20\n",
      "['$', '$', '$', 'USD', 'USD', '$', 'USD', 'USD', 'USD', 'faltante', 'USD', 'USD', 'USD', '$', 'USD', '$', 'USD', 'USD', 'USD', 'USD'] 20\n",
      "['USD', '$', 'USD', 'USD', 'USD', '$', '$', '$', 'USD', '$', '$', 'USD', 'USD', 'USD', '$', '$', '$', '$', '$', '$'] 20\n",
      "['$', 'USD', '$', '$', '$', 'USD', 'USD', '$', 'USD', '$', '$', '$', 'USD', 'USD', '$', 'USD', '$', '$', 'USD', '$'] 20\n",
      "['$', '$', '$', 'USD', 'USD', 'USD', 'USD', 'USD', 'USD', 'USD', 'USD', '$', 'USD', 'USD', 'USD', 'USD', '$', '$', '$', '$'] 20\n",
      "['$', '$', 'USD', '$', 'USD', 'USD', '$', 'USD', 'USD', '$', '$', 'USD', '$', '$', '$', 'USD', '$', '$', '$', 'USD'] 20\n",
      "['USD', '$', '$', '$', '$', '$', '$', '$', 'USD', '$', 'USD', 'USD', 'USD', '$', '$', '$', 'USD', 'USD', 'USD', 'USD'] 20\n",
      "['USD', '$', 'USD', 'USD', 'USD', 'USD', 'USD', 'USD', 'USD', 'USD', 'USD', '$', 'USD', 'USD', 'USD', 'USD', 'USD', '$', '$', '$'] 20\n",
      "['$', '$', '$', '$', 'USD', 'USD', '$', 'USD', 'USD', '$', 'USD', '$', 'USD', '$', 'USD', 'USD', 'USD', '$', 'USD', 'USD'] 20\n",
      "['$', '$', '$', '$', '$', '$', 'USD', '$', '$', '$', '$', '$', '$', 'USD', 'USD', 'USD', '$', '$', 'USD', '$'] 20\n",
      "['USD', '$', '$', 'USD', 'USD', 'USD', 'USD', 'USD', 'USD', 'USD', 'USD', 'USD', 'USD', 'USD', 'USD', '$', 'USD', 'USD', 'USD', '$'] 20\n",
      "['USD', 'USD', 'USD', 'USD', '$', 'USD', '$', 'USD', '$', '$', 'USD', '$', '$', '$', '$', 'USD', 'USD', '$', '$', '$'] 20\n",
      "['USD', '$', '$', '$', 'USD', 'USD', '$', 'USD', '$', '$', '$', '$', '$', 'USD', 'USD', 'USD', '$', '$', 'USD', '$'] 20\n",
      "[] 0\n",
      "['$', 'USD', 'USD', 'USD', '$', '$', 'USD', 'USD', 'USD', '$', '$', 'USD', '$', '$', 'USD', 'USD', '$', 'USD', 'USD', '$'] 20\n",
      "['USD', 'USD', '$', '$', 'USD', '$', '$', '$', '$', '$', 'USD', '$', '$', '$', '$', 'USD', '$', '$', '$', 'USD'] 20\n",
      "['$', '$', '$', '$', '$', '$', 'USD', 'USD', '$', 'USD', 'USD', '$', '$', '$', '$', 'USD', '$', '$', 'USD', 'USD'] 20\n",
      "['USD', 'USD', 'USD', '$', 'USD', '$', '$', 'USD', '$', '$', 'USD', 'USD', '$', '$', '$', 'USD', 'USD', 'USD', 'faltante', '$'] 20\n",
      "['$', '$', 'USD', '$', '$', '$', 'USD', 'USD', '$', '$', '$', '$', 'USD', '$', '$', '$', '$', '$', 'USD', 'USD'] 20\n",
      "['$', 'USD', '$', 'USD', '$', 'USD', '$', '$', 'USD', '$', '$', 'USD', '$', 'USD', 'USD', 'USD', 'USD', '$', 'USD', '$'] 20\n",
      "['USD', 'USD', '$', '$', '$', 'USD', '$', 'USD', '$', '$', 'USD', 'USD', 'USD', '$', '$', '$', '$', '$', '$', '$'] 20\n",
      "['$', '$', 'USD', 'USD', '$', '$', '$', '$', 'USD', 'USD', '$', 'USD', 'USD', '$', '$', '$', '$', '$', '$', 'USD'] 20\n",
      "['$', '$', '$', 'USD', '$', '$', 'USD', 'USD', '$', '$', '$', '$', 'USD', '$', '$', 'USD', '$', 'USD', 'USD', 'USD'] 20\n",
      "['$', '$', '$', '$', '$', '$', '$', 'USD', '$', 'USD', '$', 'USD', '$', '$', 'USD', '$', 'USD', 'USD', 'USD', 'USD'] 20\n",
      "['USD', 'USD', '$', '$', '$', '$', '$', '$', '$', 'USD', 'USD', 'USD', '$', '$', '$', 'USD', '$', 'USD', '$', 'USD'] 20\n",
      "['USD', '$', '$', '$', '$', '$', '$', '$', '$', '$', '$', '$', 'USD', '$', 'USD', 'USD', '$', '$', 'USD', '$'] 20\n",
      "['$', '$', '$', '$', '$', '$', 'USD', '$', 'USD', '$', '$', 'USD', '$', 'USD', 'USD', 'USD', 'USD', 'USD', '$', '$'] 20\n",
      "['$', '$', '$', '$', 'USD', 'USD', '$', '$', '$', 'USD', '$', '$', '$', 'USD', '$', '$', '$', '$', '$', 'USD'] 20\n",
      "['$', '$', '$', '$', '$', '$', 'USD', 'USD', '$', '$', '$', '$', 'USD', 'USD', '$', '$', '$', 'USD', 'USD', 'USD'] 20\n",
      "['USD', '$', '$', '$', 'USD', '$', '$', '$', 'USD', 'USD', '$', '$', '$', '$', '$', '$', 'USD', 'USD', '$', '$'] 20\n",
      "['$', '$', '$', '$', '$', 'USD', '$', '$', '$', '$', '$', '$', 'USD', '$', 'USD', '$', 'USD', '$', '$', '$'] 20\n",
      "['USD', '$', '$', 'USD', '$', '$', '$', '$', '$', '$', '$', 'USD', '$', '$', '$', '$', 'USD', '$', 'USD', 'USD'] 20\n",
      "['$', '$', '$', 'USD', '$', '$', '$', '$', 'USD', '$', '$', '$', '$', '$', '$', '$', '$', '$', '$', '$'] 20\n",
      "['$', '$', '$', '$', 'USD', 'USD', 'USD', '$', '$', '$', '$', '$', 'USD', '$', 'USD', 'USD', '$', '$', '$', '$'] 20\n",
      "['$', '$', '$', '$', '$', '$', '$', '$', 'USD', 'USD', 'USD', '$', '$', '$', '$', '$', '$', 'USD', 'USD', 'USD'] 20\n",
      "['$', '$', '$', '$', '$', '$', '$', '$', '$', '$', '$', 'USD', 'USD', 'USD', '$', '$', '$', '$', 'USD', 'USD'] 20\n",
      "['USD', 'USD', 'USD', '$', '$', '$', '$', 'faltante', '$', 'USD', '$', '$', '$', '$', 'USD', 'USD', '$', '$', '$', '$'] 20\n",
      "['USD', '$', '$', '$', '$', '$', '$', '$', '$', 'USD', '$', '$', '$', '$', 'USD', 'USD', 'USD', '$', 'USD', '$'] 20\n",
      "['$', '$', '$', 'USD', '$', '$', '$', '$', 'USD', '$', 'USD', 'USD', '$', '$', '$', 'USD', '$', 'USD', 'USD', '$'] 20\n",
      "['$', '$', 'USD', '$', '$', 'USD', '$', 'USD', '$', '$', '$', 'USD', 'USD', 'USD', 'USD', '$', '$', '$', '$', 'USD'] 20\n",
      "['USD', '$', '$', '$', '$', '$', '$', '$', 'USD', '$', '$', '$', '$', '$', '$', '$', 'USD', '$', 'USD', 'USD'] 20\n",
      "['USD', 'USD', '$', 'USD', '$', '$', '$', '$', '$', '$', '$', '$', '$', '$', '$', '$', 'USD', '$', '$', '$'] 20\n",
      "['$', '$', '$', 'USD', '$', '$', '$', '$', '$', '$', '$', 'USD', 'USD', '$', 'USD', '$', 'USD', '$', '$', '$'] 20\n",
      "['$', '$', '$', 'USD', 'USD', '$', '$', '$', '$', 'USD', '$', '$', '$', '$', 'USD', '$', '$', 'USD', 'USD', '$'] 20\n",
      "['$', '$', '$', '$', '$', '$', '$', '$', '$', 'USD', '$', 'USD', '$', '$', '$', 'USD', '$', '$', 'USD', '$'] 20\n",
      "['$', '$', 'USD', 'USD', '$', 'USD', '$', 'USD', '$', '$', '$', '$', '$', '$', 'USD', '$', '$', 'USD', '$', '$'] 20\n",
      "['$', 'USD', '$', '$', 'USD', '$', 'USD', '$', '$', '$', '$', '$', '$', '$', '$', 'USD', '$', '$', '$', 'USD'] 20\n",
      "['$', 'USD', 'USD', 'USD', '$', 'USD', 'USD', 'USD', '$', '$', '$', 'USD', '$', '$', '$', '$', '$', 'USD', '$', '$'] 20\n",
      "['$', 'USD', '$', '$', '$', '$', '$', 'USD', '$', '$', '$', '$', 'USD', '$', '$', '$', '$', '$', '$', '$'] 20\n",
      "['USD', '$', 'USD', '$', '$', 'USD', 'USD', '$', '$', 'USD', '$', '$', '$', 'USD', '$', 'USD', 'USD', 'USD', '$', '$'] 20\n",
      "['USD', '$', '$', '$', '$', 'USD', 'USD', '$', '$', '$', '$', '$', '$', '$', '$', 'USD', '$', '$', '$', '$'] 20\n",
      "['$', '$', '$', 'USD', '$', '$', 'USD', '$', '$', '$', '$', '$', 'USD', '$', '$', '$', 'USD', '$', 'USD', 'USD'] 20\n",
      "['USD', 'USD', 'USD', '$', '$', '$', '$', '$', '$', '$', '$', 'USD', '$', '$', '$', '$', '$', '$', '$', '$'] 20\n",
      "['$', '$', '$', '$', 'USD', 'USD', '$', '$', '$', 'USD', '$', 'USD', 'USD', '$', '$', '$', '$', '$', '$', 'USD'] 20\n",
      "['$', '$', '$', '$', 'USD', 'USD', '$', '$', 'USD', '$', '$', 'USD', '$', '$', '$', '$', '$', '$', 'USD', '$'] 20\n",
      "['$', '$', '$', '$', '$', '$', '$', '$', '$', 'USD', '$', '$', '$', '$', '$', '$', '$', '$', '$', '$'] 20\n",
      "['$', '$', '$', '$', '$', 'USD', '$', '$', '$', '$', '$', '$', 'USD', 'USD', '$', 'USD', '$', '$', '$', '$'] 20\n",
      "[] 0\n",
      "['USD', 'USD', '$', '$', 'USD', '$', '$', '$', '$', '$', '$', '$', 'USD', '$', 'USD', '$', 'USD', '$', '$', 'USD'] 20\n",
      "[] 0\n",
      "['$', '$', '$', '$', '$', '$', '$', '$', '$', '$', 'USD', 'USD', '$', '$', '$', '$', '$', '$', 'USD', 'USD'] 20\n",
      "[] 0\n",
      "['$', '$', '$', '$', '$', 'USD', 'USD', '$', 'USD', '$', 'USD', 'USD', 'USD', 'USD', '$', '$', '$', '$', 'USD', '$'] 20\n",
      "['USD', '$', 'USD', '$', '$', 'USD', '$', '$', '$', 'USD', '$', '$', '$', '$', '$', 'USD', '$', '$', '$', '$'] 20\n",
      "['USD', '$', '$', '$', 'USD', 'USD', '$', '$', '$', '$', '$', '$', '$', '$', 'USD', '$', '$', 'USD', '$', '$'] 20\n",
      "['$', '$', 'USD', '$', 'USD', '$', '$', 'USD', 'USD', 'USD', '$', '$', '$'] 13\n"
     ]
    }
   ],
   "source": [
    "for i in df['tipo_moneda']:\n",
    "    print(i,len(i))"
   ]
  },
  {
   "cell_type": "code",
   "execution_count": 185,
   "metadata": {},
   "outputs": [],
   "source": [
    "#asignar valor primera columna\n",
    "\n",
    "#lista.insert(0,'zero') : insert index, name of value\n",
    "\n"
   ]
  },
  {
   "cell_type": "code",
   "execution_count": 186,
   "metadata": {},
   "outputs": [
    {
     "data": {
      "text/plain": [
       "0      [USD 2.000+ $50.000exp., USD 3.900+ $130.000ex...\n",
       "1      [USD 2.000+ $50.000exp., USD 3.900+ $130.000ex...\n",
       "2      [$ 390.000+ $24.500expensas, $ 225.000, $ 120....\n",
       "3      [$ 100.000+ $20.000expensas, $ 82.500+ $12.000...\n",
       "4      [$ 60.000+ $13.000expensas, $ 80.000+ $6.500ex...\n",
       "                             ...                        \n",
       "154                                                   []\n",
       "155    [$ 90.000+ $21.000expensas, $ 155.000+ $15.000...\n",
       "156    [USD 2.000, $ 130.000+ $15.000expensas, USD 5....\n",
       "157    [USD 550+ $27.000expensas, $ 85.000+ $15.000ex...\n",
       "158    [$ 50.000, $ 85.000+ $15.400expensas, USD 450,...\n",
       "Name: precio_vivienda, Length: 159, dtype: object"
      ]
     },
     "execution_count": 186,
     "metadata": {},
     "output_type": "execute_result"
    }
   ],
   "source": [
    "df['precio_vivienda']"
   ]
  },
  {
   "cell_type": "code",
   "execution_count": 187,
   "metadata": {},
   "outputs": [
    {
     "data": {
      "text/plain": [
       "Index(['tipo_moneda', 'precio_vivienda', 'direccion_vivienda',\n",
       "       'metros_cuadrados', 'años_vivenda', 'ambientes', 'inmobiliaria'],\n",
       "      dtype='object')"
      ]
     },
     "execution_count": 187,
     "metadata": {},
     "output_type": "execute_result"
    }
   ],
   "source": [
    "df.columns"
   ]
  },
  {
   "cell_type": "code",
   "execution_count": 192,
   "metadata": {},
   "outputs": [
    {
     "data": {
      "text/plain": [
       "3093"
      ]
     },
     "execution_count": 192,
     "metadata": {},
     "output_type": "execute_result"
    }
   ],
   "source": [
    "\n",
    "\n",
    "\n",
    "# Aplicamos la función a cada elemento de la columna 'tipo_moneda' usando apply\n",
    "elements_tipomon = df['tipo_moneda'].apply(lambda x: list(chain(x)))\n",
    "\n",
    "# Concatenamos todas las listas en una sola lista con chain y la convertimos en una lista con list\n",
    "elements_tipomon = list(chain(*elements_tipomon))\n",
    "\n",
    "len(elements_tipomon)\n",
    "\n",
    "\n"
   ]
  },
  {
   "cell_type": "code",
   "execution_count": 194,
   "metadata": {},
   "outputs": [
    {
     "data": {
      "text/plain": [
       "3093"
      ]
     },
     "execution_count": 194,
     "metadata": {},
     "output_type": "execute_result"
    }
   ],
   "source": [
    "\n",
    "# Aplicamos la función a cada elemento de la columna 'precio_vivienda' usando apply\n",
    "elements_precioviv = df['precio_vivienda'].apply(lambda x: list(chain(x)))\n",
    "\n",
    "# Concatenamos todas las listas en una sola lista con chain y la convertimos en una lista con list\n",
    "elements_precioviv = list(chain(*elements_precioviv))\n",
    "\n",
    "len(elements_precioviv)"
   ]
  },
  {
   "cell_type": "code",
   "execution_count": 195,
   "metadata": {},
   "outputs": [
    {
     "data": {
      "text/plain": [
       "Index(['tipo_moneda', 'precio_vivienda', 'direccion_vivienda',\n",
       "       'metros_cuadrados', 'años_vivenda', 'ambientes', 'inmobiliaria'],\n",
       "      dtype='object')"
      ]
     },
     "execution_count": 195,
     "metadata": {},
     "output_type": "execute_result"
    }
   ],
   "source": [
    "df.columns"
   ]
  },
  {
   "cell_type": "code",
   "execution_count": 196,
   "metadata": {},
   "outputs": [
    {
     "data": {
      "text/plain": [
       "3093"
      ]
     },
     "execution_count": 196,
     "metadata": {},
     "output_type": "execute_result"
    }
   ],
   "source": [
    "\n",
    "# Aplicamos la función a cada elemento de la columna 'precio_vivienda' usando apply\n",
    "elements_direcviv = df['direccion_vivienda'].apply(lambda x: list(chain(x)))\n",
    "\n",
    "# Concatenamos todas las listas en una sola lista con chain y la convertimos en una lista con list\n",
    "elements_direcviv = list(chain(*elements_direcviv))\n",
    "\n",
    "len(elements_direcviv)"
   ]
  },
  {
   "cell_type": "code",
   "execution_count": 197,
   "metadata": {},
   "outputs": [
    {
     "data": {
      "text/plain": [
       "3093"
      ]
     },
     "execution_count": 197,
     "metadata": {},
     "output_type": "execute_result"
    }
   ],
   "source": [
    "# Aplicamos la función a cada elemento de la columna 'precio_vivienda' usando apply\n",
    "elements_metcuad = df['metros_cuadrados'].apply(lambda x: list(chain(x)))\n",
    "\n",
    "# Concatenamos todas las listas en una sola lista con chain y la convertimos en una lista con list\n",
    "elements_metcuad = list(chain(*elements_metcuad))\n",
    "\n",
    "len(elements_metcuad)"
   ]
  },
  {
   "cell_type": "code",
   "execution_count": 199,
   "metadata": {},
   "outputs": [],
   "source": [
    "df_def = pd.DataFrame({'tipo_moneda':elements_tipomon,'precio_vivienda':elements_precioviv,'direccion_vivienda':elements_direcviv,\n",
    "                        'metros_cuadrados':elements_metcuad} )"
   ]
  },
  {
   "cell_type": "code",
   "execution_count": 200,
   "metadata": {},
   "outputs": [
    {
     "data": {
      "text/html": [
       "<div>\n",
       "<style scoped>\n",
       "    .dataframe tbody tr th:only-of-type {\n",
       "        vertical-align: middle;\n",
       "    }\n",
       "\n",
       "    .dataframe tbody tr th {\n",
       "        vertical-align: top;\n",
       "    }\n",
       "\n",
       "    .dataframe thead th {\n",
       "        text-align: right;\n",
       "    }\n",
       "</style>\n",
       "<table border=\"1\" class=\"dataframe\">\n",
       "  <thead>\n",
       "    <tr style=\"text-align: right;\">\n",
       "      <th></th>\n",
       "      <th>tipo_moneda</th>\n",
       "      <th>precio_vivienda</th>\n",
       "      <th>direccion_vivienda</th>\n",
       "      <th>metros_cuadrados</th>\n",
       "    </tr>\n",
       "  </thead>\n",
       "  <tbody>\n",
       "    <tr>\n",
       "      <th>0</th>\n",
       "      <td>USD</td>\n",
       "      <td>USD 2.000+ $50.000exp.</td>\n",
       "      <td>JUAN MARIA GUTIERREZ 3900</td>\n",
       "      <td>140m² cubie.</td>\n",
       "    </tr>\n",
       "    <tr>\n",
       "      <th>1</th>\n",
       "      <td>USD</td>\n",
       "      <td>USD 3.900+ $130.000exp.</td>\n",
       "      <td>Cavia 3000</td>\n",
       "      <td>400m² cubie.</td>\n",
       "    </tr>\n",
       "    <tr>\n",
       "      <th>2</th>\n",
       "      <td>USD</td>\n",
       "      <td>USD 1.500+ $50.000expensas</td>\n",
       "      <td>Juan Maria Gutierrez 3900</td>\n",
       "      <td>2 dorm.</td>\n",
       "    </tr>\n",
       "    <tr>\n",
       "      <th>3</th>\n",
       "      <td>$</td>\n",
       "      <td>$ 200.000</td>\n",
       "      <td>Rep De Honduras 4100, Piso PB</td>\n",
       "      <td>100m² cubie.</td>\n",
       "    </tr>\n",
       "    <tr>\n",
       "      <th>4</th>\n",
       "      <td>$</td>\n",
       "      <td>$ 125.000+ $13.000expensas</td>\n",
       "      <td>AV. HONDURAS 3700, Piso 3</td>\n",
       "      <td>35m² cubie.</td>\n",
       "    </tr>\n",
       "    <tr>\n",
       "      <th>...</th>\n",
       "      <td>...</td>\n",
       "      <td>...</td>\n",
       "      <td>...</td>\n",
       "      <td>...</td>\n",
       "    </tr>\n",
       "    <tr>\n",
       "      <th>3088</th>\n",
       "      <td>USD</td>\n",
       "      <td>USD 1.000+ $6.000expensas</td>\n",
       "      <td>JULIAN ALVAREZ al 2300 4AMBAMOBLADO C/DEPENDEN...</td>\n",
       "      <td>3 dorm.</td>\n",
       "    </tr>\n",
       "    <tr>\n",
       "      <th>3089</th>\n",
       "      <td>USD</td>\n",
       "      <td>USD 1.000+ $6.000expensas</td>\n",
       "      <td>JULIAN ALVAREZ al 2300 4AMBAMOBLADO C/DEPENDEN...</td>\n",
       "      <td>3 dorm.</td>\n",
       "    </tr>\n",
       "    <tr>\n",
       "      <th>3090</th>\n",
       "      <td>$</td>\n",
       "      <td>$ 70.000+ $1.300expensas</td>\n",
       "      <td>Av Alberdi 500, Piso 2</td>\n",
       "      <td>60m² cubie.</td>\n",
       "    </tr>\n",
       "    <tr>\n",
       "      <th>3091</th>\n",
       "      <td>$</td>\n",
       "      <td>$ 105.000+ $10.000expensas</td>\n",
       "      <td>HUMBOLDT al 1300</td>\n",
       "      <td>32m² cubie.</td>\n",
       "    </tr>\n",
       "    <tr>\n",
       "      <th>3092</th>\n",
       "      <td>$</td>\n",
       "      <td>$ 80.000+ $8.000expensas</td>\n",
       "      <td>Aranguren al 500</td>\n",
       "      <td>38m² cubie.</td>\n",
       "    </tr>\n",
       "  </tbody>\n",
       "</table>\n",
       "<p>3093 rows × 4 columns</p>\n",
       "</div>"
      ],
      "text/plain": [
       "     tipo_moneda             precio_vivienda  \\\n",
       "0            USD      USD 2.000+ $50.000exp.   \n",
       "1            USD     USD 3.900+ $130.000exp.   \n",
       "2            USD  USD 1.500+ $50.000expensas   \n",
       "3              $                   $ 200.000   \n",
       "4              $  $ 125.000+ $13.000expensas   \n",
       "...          ...                         ...   \n",
       "3088         USD   USD 1.000+ $6.000expensas   \n",
       "3089         USD   USD 1.000+ $6.000expensas   \n",
       "3090           $    $ 70.000+ $1.300expensas   \n",
       "3091           $  $ 105.000+ $10.000expensas   \n",
       "3092           $    $ 80.000+ $8.000expensas   \n",
       "\n",
       "                                     direccion_vivienda metros_cuadrados  \n",
       "0                             JUAN MARIA GUTIERREZ 3900     140m² cubie.  \n",
       "1                                            Cavia 3000     400m² cubie.  \n",
       "2                             Juan Maria Gutierrez 3900          2 dorm.  \n",
       "3                         Rep De Honduras 4100, Piso PB     100m² cubie.  \n",
       "4                             AV. HONDURAS 3700, Piso 3      35m² cubie.  \n",
       "...                                                 ...              ...  \n",
       "3088  JULIAN ALVAREZ al 2300 4AMBAMOBLADO C/DEPENDEN...          3 dorm.  \n",
       "3089  JULIAN ALVAREZ al 2300 4AMBAMOBLADO C/DEPENDEN...          3 dorm.  \n",
       "3090                             Av Alberdi 500, Piso 2      60m² cubie.  \n",
       "3091                                   HUMBOLDT al 1300      32m² cubie.  \n",
       "3092                                   Aranguren al 500      38m² cubie.  \n",
       "\n",
       "[3093 rows x 4 columns]"
      ]
     },
     "execution_count": 200,
     "metadata": {},
     "output_type": "execute_result"
    }
   ],
   "source": [
    "df_def"
   ]
  },
  {
   "cell_type": "code",
   "execution_count": 189,
   "metadata": {},
   "outputs": [
    {
     "data": {
      "text/plain": [
       "No aparece Inmobiliaria                                                                  317.0\n",
       "https://static1.sosiva451.com/001082_a/86c86874-3bf6-412d-9724-348d13fc1b54_small.jpg      1.0\n",
       "https://static1.sosiva451.com/001462_a/331b8bdc-e211-422f-8f99-2cdab664e897_small.jpg      1.0\n",
       "https://static1.sosiva451.com/001472_a/fbff6e8a-7fb7-4112-9e36-b3d22dfeb3d9_small.jpg      1.0\n",
       "https://static1.sosiva451.com/002082_a/403a8df1-8806-446c-8c55-f503c462fb92_small.jpg      3.0\n",
       "https://static1.sosiva451.com/006291_a/a2b7080d-9bda-4788-b7e8-8c445131e709_small.jpg     10.0\n",
       "https://static1.sosiva451.com/009101_a/2e29b628-76fa-4846-b0cd-00cdc6c09706_small.jpg      8.0\n",
       "https://static1.sosiva451.com/011182_a/90699dbe-7dec-437f-a53b-5ebe9e8acf46_small.jpg      1.0\n",
       "https://static1.sosiva451.com/012191_a/ffe4a940-2a98-4a2c-aa06-d525341a36fa_small.jpg      1.0\n",
       "https://static1.sosiva451.com/012612_a/c7959ee6-57ad-4ec3-81e5-7c237413065c_small.jpg      1.0\n",
       "https://static1.sosiva451.com/012861_a/f7f685bd-e881-4c58-8356-a048a4020998_small.jpg      2.0\n",
       "https://static1.sosiva451.com/013402_a/6096cab5-49f0-4ca6-92e2-e6586678c00e_small.jpg      1.0\n",
       "https://static1.sosiva451.com/014181_a/c01e3c1a-a98e-4991-bf08-aaec00dac367_small.jpg      3.0\n",
       "https://static1.sosiva451.com/014271_a/ad94d0a4-0b03-48d9-b3a1-f4349a7ae167_small.jpg      1.0\n",
       "https://static1.sosiva451.com/019012_a/03cbee34-fb7f-4a67-8d75-d82cf46f00d8_small.jpg      2.0\n",
       "https://static1.sosiva451.com/019462_a/913f43a3-b33d-49a0-a690-72fc097a223b_small.jpg      1.0\n",
       "https://static1.sosiva451.com/021162_a/79267704-c0fb-4753-9770-fd8d8d2d06d4_small.jpg      1.0\n",
       "https://static1.sosiva451.com/021461_a/69095dea-d081-4104-93d3-ab41c516df15_small.jpg      1.0\n",
       "https://static1.sosiva451.com/022112_a/7e53f7f1-e4c0-4f09-bed3-3f2e522f216b_small.jpg      2.0\n",
       "https://static1.sosiva451.com/022221_a/7210f41c-739f-468b-a403-daae1dafac79_small.jpg      2.0\n",
       "https://static1.sosiva451.com/022271_a/976eaedb-72e6-4278-828c-38564befbadd_small.jpg      3.0\n",
       "https://static1.sosiva451.com/023251_a/17596782-5d30-4830-a2bc-8b43675c1a4c_small.jpg      1.0\n",
       "https://static1.sosiva451.com/023562_a/70f92e9a-d8a5-4235-b7c0-c037d5568fce_small.jpg      2.0\n",
       "https://static1.sosiva451.com/026311_a/f72f10c4-91ef-4da8-994a-f7f97b2bec90_small.jpg      1.0\n",
       "https://static1.sosiva451.com/026372_a/52661394-1e85-41a5-a493-2cb2fadb2a4e_small.jpg      1.0\n",
       "https://static1.sosiva451.com/0285_a/370ed135-f02e-404b-aa34-2067b69f0569_small.jpg        1.0\n",
       "https://static1.sosiva451.com/028842_a/4df10958-4a04-4927-a461-a9515f258fb3_small.jpg      8.0\n",
       "https://static1.sosiva451.com/030201_a/0e75c79d-542a-465e-b67d-f97d74f60747_small.jpg      2.0\n",
       "https://static1.sosiva451.com/032741_a/b100b260-1bb0-4678-8c11-b98db81c6834_small.jpg      1.0\n",
       "https://static1.sosiva451.com/034382_a/baab8de1-1199-456b-af30-a7b0edee4e50_small.jpg     12.0\n",
       "https://static1.sosiva451.com/034402_a/493aad03-17ee-47b1-a251-a08b9b87f80f_small.jpg      2.0\n",
       "https://static1.sosiva451.com/035031_a/0dd35209-1951-4120-aeac-45f509ea830d_small.jpg      2.0\n",
       "https://static1.sosiva451.com/035221_a/bee40380-2351-4034-8827-11b1591938ee_small.jpg      2.0\n",
       "https://static1.sosiva451.com/038101_a/cce77a22-6ec4-40e1-9d1d-14d864d9c266_small.jpg      6.0\n",
       "https://static1.sosiva451.com/038141_a/df3b7c3e-98a2-439b-9300-2d8d8676824c_small.jpg      1.0\n",
       "https://static1.sosiva451.com/038351_a/0f950507-8088-48db-91b0-d50a5d1980ff_small.jpg      5.0\n",
       "https://static1.sosiva451.com/040342_a/923645b6-c3a2-4c21-b7c9-b3784f331cce_small.jpg      1.0\n",
       "https://static1.sosiva451.com/040961_a/37a450c0-dc69-4d02-bc16-ce4d8fcbe6a0_small.jpg      4.0\n",
       "https://static1.sosiva451.com/041072_a/64190ba1-1874-4357-986e-f33bd20026e1_small.jpg      1.0\n",
       "https://static1.sosiva451.com/041201_a/2e5af08a-7cdf-4670-b0e2-762ae008d79b_small.jpg      2.0\n",
       "https://static1.sosiva451.com/043762_a/923f34fe-8ba3-4632-b52d-ffdd802c059c_small.jpg      1.0\n",
       "https://static1.sosiva451.com/044371_a/32abfadd-764a-4025-8f36-2c9119f7c7ab_small.jpg      1.0\n",
       "https://static1.sosiva451.com/044801_a/aca87f7e-5f77-4ec3-8caa-62b0e819ae86_small.jpg      1.0\n",
       "https://static1.sosiva451.com/045572_a/57141508-9833-43af-94a5-9875f6c84053_small.jpg      2.0\n",
       "https://static1.sosiva451.com/045672_a/2b785d58-ae2d-4036-bff8-bd76feb3e6cb_small.jpg      1.0\n",
       "https://static1.sosiva451.com/047652_a/921b4467-6fc0-43bb-9c56-35da19fdeb5a_small.jpg      5.0\n",
       "https://static1.sosiva451.com/047852_a/27c97054-eb1a-4151-a291-2e2f18a17f05_small.jpg      1.0\n",
       "https://static1.sosiva451.com/051101_a/1c034f7d-17c4-4ea9-bbf3-0b776c983d04_small.jpg      2.0\n",
       "https://static1.sosiva451.com/051201_a/8120f596-abaf-485d-8b67-4ec4a8034ad5_small.jpg      3.0\n",
       "https://static1.sosiva451.com/051621_a/d9f0d3d2-90f2-4897-997a-39cc5bde1e82_small.jpg      2.0\n",
       "dtype: float64"
      ]
     },
     "execution_count": 189,
     "metadata": {},
     "output_type": "execute_result"
    }
   ],
   "source": [
    "counts = df['inmobiliaria'].apply(lambda x: pd.value_counts(x))\n",
    "\n",
    "\n",
    "total_counts = counts.sum(axis=0)\n",
    "\n",
    "total_counts.head(50)\n",
    "   "
   ]
  },
  {
   "cell_type": "code",
   "execution_count": 190,
   "metadata": {},
   "outputs": [
    {
     "ename": "NameError",
     "evalue": "name 'd' is not defined",
     "output_type": "error",
     "traceback": [
      "\u001b[1;31m---------------------------------------------------------------------------\u001b[0m",
      "\u001b[1;31mNameError\u001b[0m                                 Traceback (most recent call last)",
      "Cell \u001b[1;32mIn[190], line 9\u001b[0m\n\u001b[0;32m      1\u001b[0m code \u001b[39m=\u001b[39m {\u001b[39m'\u001b[39m\u001b[39mhttps://static1.sosiva451.com/t/48259012-a91a-44f7-98b0-b7b9f2c5f43d.jpg\u001b[39m\u001b[39m'\u001b[39m:\u001b[39m'\u001b[39m\u001b[39mpuerto uno\u001b[39m\u001b[39m'\u001b[39m,\n\u001b[0;32m      2\u001b[0m \u001b[39m'\u001b[39m\u001b[39mhttps://static1.sosiva451.com/999222_a/7bf6a4a8-da9f-4bfa-94b3-e6d6cb93eb96_small.jpg\u001b[39m\u001b[39m'\u001b[39m:\u001b[39m'\u001b[39m\u001b[39misabel brex propiedades\u001b[39m\u001b[39m'\u001b[39m,\n\u001b[0;32m      3\u001b[0m \u001b[39m'\u001b[39m\u001b[39mhttps://static1.sosiva451.com/995382_a/e50d4451-1c9d-4ab0-a9fe-43921f9c3c50_small.jpg\u001b[39m\u001b[39m'\u001b[39m:\u001b[39m'\u001b[39m\u001b[39mcasal propiedades\u001b[39m\u001b[39m'\u001b[39m,\u001b[39m'\u001b[39m\u001b[39mhttps://static1.sosiva451.com/006291_a/a2b7080d-9bda-4788-b7e8-8c445131e709_small.jpg\u001b[39m\u001b[39m'\u001b[39m:\u001b[39m'\u001b[39m\u001b[39mvremont propiedades\u001b[39m\u001b[39m'\u001b[39m,\n\u001b[0;32m      4\u001b[0m \n\u001b[0;32m      5\u001b[0m }\n\u001b[0;32m      7\u001b[0m \u001b[39mfor\u001b[39;00m i \u001b[39min\u001b[39;00m df[\u001b[39m'\u001b[39m\u001b[39minmobiliaria\u001b[39m\u001b[39m'\u001b[39m]:\n\u001b[1;32m----> 9\u001b[0m  d\n",
      "\u001b[1;31mNameError\u001b[0m: name 'd' is not defined"
     ]
    }
   ],
   "source": [
    "code = {'https://static1.sosiva451.com/t/48259012-a91a-44f7-98b0-b7b9f2c5f43d.jpg':'puerto uno',\n",
    "'https://static1.sosiva451.com/999222_a/7bf6a4a8-da9f-4bfa-94b3-e6d6cb93eb96_small.jpg':'isabel brex propiedades',\n",
    "'https://static1.sosiva451.com/995382_a/e50d4451-1c9d-4ab0-a9fe-43921f9c3c50_small.jpg':'casal propiedades','https://static1.sosiva451.com/006291_a/a2b7080d-9bda-4788-b7e8-8c445131e709_small.jpg':'vremont propiedades',\n",
    "\n",
    "}\n",
    "\n",
    "for i in df['inmobiliaria']:\n",
    "\n",
    " d"
   ]
  }
 ],
 "metadata": {
  "kernelspec": {
   "display_name": "Python 3",
   "language": "python",
   "name": "python3"
  },
  "language_info": {
   "codemirror_mode": {
    "name": "ipython",
    "version": 3
   },
   "file_extension": ".py",
   "mimetype": "text/x-python",
   "name": "python",
   "nbconvert_exporter": "python",
   "pygments_lexer": "ipython3",
   "version": "3.10.4"
  },
  "orig_nbformat": 4,
  "vscode": {
   "interpreter": {
    "hash": "f2ccb58c476f33ba3e3aee7ac07234ef6b8217ef24ad64d2a7d4fed1a57c1cd2"
   }
  }
 },
 "nbformat": 4,
 "nbformat_minor": 2
}
