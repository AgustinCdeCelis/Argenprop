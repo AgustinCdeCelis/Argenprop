{
 "cells": [
  {
   "cell_type": "code",
   "execution_count": null,
   "metadata": {},
   "outputs": [],
   "source": [
    "import pandas as pd\n",
    "from itertools import chain"
   ]
  },
  {
   "cell_type": "code",
   "execution_count": 20,
   "metadata": {},
   "outputs": [],
   "source": [
    "df = pd.read_csv('argenprop.csv',converters={'tipo_moneda': pd.eval,'precio_vivienda': pd.eval,'direccion_vivienda':pd.eval,\n",
    "                                                'barrio_vivienda':pd.eval,'inmobiliaria':pd.eval})"
   ]
  },
  {
   "cell_type": "code",
   "execution_count": 21,
   "metadata": {},
   "outputs": [
    {
     "data": {
      "text/html": [
       "<div>\n",
       "<style scoped>\n",
       "    .dataframe tbody tr th:only-of-type {\n",
       "        vertical-align: middle;\n",
       "    }\n",
       "\n",
       "    .dataframe tbody tr th {\n",
       "        vertical-align: top;\n",
       "    }\n",
       "\n",
       "    .dataframe thead th {\n",
       "        text-align: right;\n",
       "    }\n",
       "</style>\n",
       "<table border=\"1\" class=\"dataframe\">\n",
       "  <thead>\n",
       "    <tr style=\"text-align: right;\">\n",
       "      <th></th>\n",
       "      <th>tipo_moneda</th>\n",
       "      <th>precio_vivienda</th>\n",
       "      <th>direccion_vivienda</th>\n",
       "      <th>barrio_vivienda</th>\n",
       "      <th>descripcion_vivenda</th>\n",
       "      <th>inmobiliaria</th>\n",
       "    </tr>\n",
       "  </thead>\n",
       "  <tbody>\n",
       "    <tr>\n",
       "      <th>0</th>\n",
       "      <td>[USD, USD, USD, USD, USD, $, $, $, $, $, $, $,...</td>\n",
       "      <td>[\\nUSD 1.000                \\n            , \\n...</td>\n",
       "      <td>[\\n                    Lola Mora 400, Piso 8\\n...</td>\n",
       "      <td>[Departamento en Alquiler en Puerto Madero, Ce...</td>\n",
       "      <td>[[[&lt;span&gt;\\n                         40  m² cub...</td>\n",
       "      <td>[No aparece Inmobiliaria, https://static1.sosi...</td>\n",
       "    </tr>\n",
       "    <tr>\n",
       "      <th>1</th>\n",
       "      <td>[USD, USD, USD, USD, USD, $, $, $, $, $, $, $,...</td>\n",
       "      <td>[\\nUSD 1.000                \\n            , \\n...</td>\n",
       "      <td>[\\n                    Lola Mora 400, Piso 8\\n...</td>\n",
       "      <td>[Departamento en Alquiler en Puerto Madero, Ce...</td>\n",
       "      <td>[[[&lt;span&gt;\\n                         40  m² cub...</td>\n",
       "      <td>[No aparece Inmobiliaria, https://static1.sosi...</td>\n",
       "    </tr>\n",
       "    <tr>\n",
       "      <th>2</th>\n",
       "      <td>[$, $, $, USD, $, USD, $, $, $, $, $, $, $, $,...</td>\n",
       "      <td>[\\n$ 390.000                \\n                ...</td>\n",
       "      <td>[\\n                    La Pampa al 2000\\n     ...</td>\n",
       "      <td>[Departamento en Alquiler en Belgrano, Capital...</td>\n",
       "      <td>[[[&lt;span&gt;\\n                         150  m² cu...</td>\n",
       "      <td>[https://static1.sosiva451.com/347151_a/527a2f...</td>\n",
       "    </tr>\n",
       "    <tr>\n",
       "      <th>3</th>\n",
       "      <td>[$, $, $, $, $, $, $, $, USD, $, $, $, $, USD,...</td>\n",
       "      <td>[\\n$ 140.000                \\n                ...</td>\n",
       "      <td>[\\n                    Membrillar 200, Piso 10...</td>\n",
       "      <td>[Departamento en Alquiler en Flores, Capital F...</td>\n",
       "      <td>[[[&lt;span&gt;\\n                         63  m² cub...</td>\n",
       "      <td>[https://static1.sosiva451.com/509111_a/ee2cd0...</td>\n",
       "    </tr>\n",
       "    <tr>\n",
       "      <th>4</th>\n",
       "      <td>[USD, $, USD, $, $, $, $, $, $, $, $, $, $, $,...</td>\n",
       "      <td>[\\nUSD 3.600                \\n                ...</td>\n",
       "      <td>[\\n                    TORRE RENOIR Marta Lync...</td>\n",
       "      <td>[Departamento en Alquiler en Puerto Madero, Ce...</td>\n",
       "      <td>[[[&lt;span&gt;\\n                         177  m² cu...</td>\n",
       "      <td>[https://static1.sosiva451.com/369801_a/f5d5c5...</td>\n",
       "    </tr>\n",
       "    <tr>\n",
       "      <th>...</th>\n",
       "      <td>...</td>\n",
       "      <td>...</td>\n",
       "      <td>...</td>\n",
       "      <td>...</td>\n",
       "      <td>...</td>\n",
       "      <td>...</td>\n",
       "    </tr>\n",
       "    <tr>\n",
       "      <th>152</th>\n",
       "      <td>[$, $, $, $, $, $, $, $, $, $, $, USD, USD, US...</td>\n",
       "      <td>[\\n$ 105.000                \\n                ...</td>\n",
       "      <td>[\\n                    AV JUAN B JUSTO 2350\\n ...</td>\n",
       "      <td>[Departamento en Alquiler en Villa Crespo, Cap...</td>\n",
       "      <td>[[[&lt;span&gt;\\n                         45  m² cub...</td>\n",
       "      <td>[https://static1.sosiva451.com/975752_a/4237ce...</td>\n",
       "    </tr>\n",
       "    <tr>\n",
       "      <th>153</th>\n",
       "      <td>[$, $, $, $, $, $, $, USD, $, $, USD, USD, $, ...</td>\n",
       "      <td>[\\n$ 50.000                \\n                \\...</td>\n",
       "      <td>[\\n                    Inclan al 4200\\n       ...</td>\n",
       "      <td>[Departamento en Alquiler en Boedo, Capital Fe...</td>\n",
       "      <td>[[[&lt;span&gt;\\n                         20  m² cub...</td>\n",
       "      <td>[https://static1.sosiva451.com/657171_a/4bb197...</td>\n",
       "    </tr>\n",
       "    <tr>\n",
       "      <th>154</th>\n",
       "      <td>[$, USD, USD, USD, $, USD, $, $, $, $, $, $, $...</td>\n",
       "      <td>[\\n$ 80.000                \\n            , \\nU...</td>\n",
       "      <td>[\\n                    Amenabar al 2600\\n     ...</td>\n",
       "      <td>[Departamento en Alquiler en Belgrano, Capital...</td>\n",
       "      <td>[[[&lt;span&gt;\\n                         1 dorm.\\n ...</td>\n",
       "      <td>[No aparece Inmobiliaria, https://static1.sosi...</td>\n",
       "    </tr>\n",
       "    <tr>\n",
       "      <th>155</th>\n",
       "      <td>[$, $, $, $, USD, USD, $, $, $, USD, $, $, USD...</td>\n",
       "      <td>[\\n$ 90.000                \\n                \\...</td>\n",
       "      <td>[\\n                    Bermudez al 1900\\n     ...</td>\n",
       "      <td>[Departamento en Alquiler en Villa del Parque,...</td>\n",
       "      <td>[[[&lt;span&gt;\\n                         51  m² cub...</td>\n",
       "      <td>[https://static1.sosiva451.com/360201_a/1ceeb2...</td>\n",
       "    </tr>\n",
       "    <tr>\n",
       "      <th>156</th>\n",
       "      <td>[$, $, $, $, $, $, $, $, faltante]</td>\n",
       "      <td>[\\n$ 190.000                \\n                ...</td>\n",
       "      <td>[\\n                    FRANCO 3400\\n          ...</td>\n",
       "      <td>[Departamento en Alquiler en Villa Pueyrredon,...</td>\n",
       "      <td>[[[&lt;span&gt;\\n                         70  m² cub...</td>\n",
       "      <td>[https://static1.sosiva451.com/139961_a/47e8d7...</td>\n",
       "    </tr>\n",
       "  </tbody>\n",
       "</table>\n",
       "<p>157 rows × 6 columns</p>\n",
       "</div>"
      ],
      "text/plain": [
       "                                           tipo_moneda  \\\n",
       "0    [USD, USD, USD, USD, USD, $, $, $, $, $, $, $,...   \n",
       "1    [USD, USD, USD, USD, USD, $, $, $, $, $, $, $,...   \n",
       "2    [$, $, $, USD, $, USD, $, $, $, $, $, $, $, $,...   \n",
       "3    [$, $, $, $, $, $, $, $, USD, $, $, $, $, USD,...   \n",
       "4    [USD, $, USD, $, $, $, $, $, $, $, $, $, $, $,...   \n",
       "..                                                 ...   \n",
       "152  [$, $, $, $, $, $, $, $, $, $, $, USD, USD, US...   \n",
       "153  [$, $, $, $, $, $, $, USD, $, $, USD, USD, $, ...   \n",
       "154  [$, USD, USD, USD, $, USD, $, $, $, $, $, $, $...   \n",
       "155  [$, $, $, $, USD, USD, $, $, $, USD, $, $, USD...   \n",
       "156                 [$, $, $, $, $, $, $, $, faltante]   \n",
       "\n",
       "                                       precio_vivienda  \\\n",
       "0    [\\nUSD 1.000                \\n            , \\n...   \n",
       "1    [\\nUSD 1.000                \\n            , \\n...   \n",
       "2    [\\n$ 390.000                \\n                ...   \n",
       "3    [\\n$ 140.000                \\n                ...   \n",
       "4    [\\nUSD 3.600                \\n                ...   \n",
       "..                                                 ...   \n",
       "152  [\\n$ 105.000                \\n                ...   \n",
       "153  [\\n$ 50.000                \\n                \\...   \n",
       "154  [\\n$ 80.000                \\n            , \\nU...   \n",
       "155  [\\n$ 90.000                \\n                \\...   \n",
       "156  [\\n$ 190.000                \\n                ...   \n",
       "\n",
       "                                    direccion_vivienda  \\\n",
       "0    [\\n                    Lola Mora 400, Piso 8\\n...   \n",
       "1    [\\n                    Lola Mora 400, Piso 8\\n...   \n",
       "2    [\\n                    La Pampa al 2000\\n     ...   \n",
       "3    [\\n                    Membrillar 200, Piso 10...   \n",
       "4    [\\n                    TORRE RENOIR Marta Lync...   \n",
       "..                                                 ...   \n",
       "152  [\\n                    AV JUAN B JUSTO 2350\\n ...   \n",
       "153  [\\n                    Inclan al 4200\\n       ...   \n",
       "154  [\\n                    Amenabar al 2600\\n     ...   \n",
       "155  [\\n                    Bermudez al 1900\\n     ...   \n",
       "156  [\\n                    FRANCO 3400\\n          ...   \n",
       "\n",
       "                                       barrio_vivienda  \\\n",
       "0    [Departamento en Alquiler en Puerto Madero, Ce...   \n",
       "1    [Departamento en Alquiler en Puerto Madero, Ce...   \n",
       "2    [Departamento en Alquiler en Belgrano, Capital...   \n",
       "3    [Departamento en Alquiler en Flores, Capital F...   \n",
       "4    [Departamento en Alquiler en Puerto Madero, Ce...   \n",
       "..                                                 ...   \n",
       "152  [Departamento en Alquiler en Villa Crespo, Cap...   \n",
       "153  [Departamento en Alquiler en Boedo, Capital Fe...   \n",
       "154  [Departamento en Alquiler en Belgrano, Capital...   \n",
       "155  [Departamento en Alquiler en Villa del Parque,...   \n",
       "156  [Departamento en Alquiler en Villa Pueyrredon,...   \n",
       "\n",
       "                                   descripcion_vivenda  \\\n",
       "0    [[[<span>\\n                         40  m² cub...   \n",
       "1    [[[<span>\\n                         40  m² cub...   \n",
       "2    [[[<span>\\n                         150  m² cu...   \n",
       "3    [[[<span>\\n                         63  m² cub...   \n",
       "4    [[[<span>\\n                         177  m² cu...   \n",
       "..                                                 ...   \n",
       "152  [[[<span>\\n                         45  m² cub...   \n",
       "153  [[[<span>\\n                         20  m² cub...   \n",
       "154  [[[<span>\\n                         1 dorm.\\n ...   \n",
       "155  [[[<span>\\n                         51  m² cub...   \n",
       "156  [[[<span>\\n                         70  m² cub...   \n",
       "\n",
       "                                          inmobiliaria  \n",
       "0    [No aparece Inmobiliaria, https://static1.sosi...  \n",
       "1    [No aparece Inmobiliaria, https://static1.sosi...  \n",
       "2    [https://static1.sosiva451.com/347151_a/527a2f...  \n",
       "3    [https://static1.sosiva451.com/509111_a/ee2cd0...  \n",
       "4    [https://static1.sosiva451.com/369801_a/f5d5c5...  \n",
       "..                                                 ...  \n",
       "152  [https://static1.sosiva451.com/975752_a/4237ce...  \n",
       "153  [https://static1.sosiva451.com/657171_a/4bb197...  \n",
       "154  [No aparece Inmobiliaria, https://static1.sosi...  \n",
       "155  [https://static1.sosiva451.com/360201_a/1ceeb2...  \n",
       "156  [https://static1.sosiva451.com/139961_a/47e8d7...  \n",
       "\n",
       "[157 rows x 6 columns]"
      ]
     },
     "execution_count": 21,
     "metadata": {},
     "output_type": "execute_result"
    }
   ],
   "source": [
    "df"
   ]
  },
  {
   "cell_type": "code",
   "execution_count": null,
   "metadata": {},
   "outputs": [],
   "source": [
    "a=[]\n",
    " \n",
    "for i in df['descripcion_vivenda']:\n",
    "    resultado= i.split(']], [[')\n",
    "    a.append(resultado)"
   ]
  },
  {
   "cell_type": "code",
   "execution_count": null,
   "metadata": {},
   "outputs": [],
   "source": [
    "df['descripcion_vivenda']=a"
   ]
  },
  {
   "cell_type": "code",
   "execution_count": null,
   "metadata": {},
   "outputs": [],
   "source": [
    "for i in df['descripcion_vivenda']:\n",
    "    print(len(i),i)"
   ]
  },
  {
   "cell_type": "code",
   "execution_count": null,
   "metadata": {},
   "outputs": [],
   "source": [
    "#df_faltante = pd.read_csv('argenpropfaltante.csv', converters={'tipo_moneda': pd.eval,'precio_vivienda': pd.eval,'direccion_vivienda':pd.eval,\n",
    "                                               # 'barrio_vivienda':pd.eval,'descripcion_vivenda':pd.eval,'inmobiliaria':pd.eval})"
   ]
  },
  {
   "cell_type": "code",
   "execution_count": null,
   "metadata": {},
   "outputs": [],
   "source": [
    "#df_faltante['precio_vivienda'] = df_faltante['precio_vivienda'].apply(lambda x: [i.replace('\\n','').replace('  ','') for i in x])\n",
    "\n",
    "#df_faltante['direccion_vivienda'] = df_faltante['direccion_vivienda'].apply(lambda x: [i.replace('\\n','').replace('  ','') for i in x])\n",
    "\n",
    "#df_faltante['descripcion_vivenda'] = df_faltante['descripcion_vivenda'].apply(lambda x: [i.replace('\\n','').replace('  ','') for i in x])\n",
    "\n",
    "#df_faltante['barrio_vivenda'] =df_faltante['barrio_vivienda'].apply(lambda x: [i.replace('\\n','').replace('  ','') for i in x])\n",
    "\n",
    "\n",
    "\n"
   ]
  },
  {
   "cell_type": "code",
   "execution_count": null,
   "metadata": {},
   "outputs": [],
   "source": [
    "df['precio_vivienda'] = df['precio_vivienda'].apply(lambda x: [i.replace('\\n','').replace('  ','') for i in x])\n",
    "\n",
    "df['direccion_vivienda'] = df['direccion_vivienda'].apply(lambda x: [i.replace('\\n','').replace('  ','') for i in x])\n",
    "\n",
    "df['descripcion_vivenda'] = df['descripcion_vivenda'].apply(lambda x: [i.replace('\\n','').replace('  ','').replace('<span>','').replace('[','').replace('</span>','')  for i in x])\n",
    "\n",
    "df['barrio_vivenda'] =df['barrio_vivienda'].apply(lambda x: [i.replace('\\n','').replace('  ','') for i in x])\n",
    "\n",
    "\n"
   ]
  },
  {
   "cell_type": "code",
   "execution_count": null,
   "metadata": {},
   "outputs": [],
   "source": [
    "df['precio_vivienda'][0]"
   ]
  },
  {
   "cell_type": "code",
   "execution_count": null,
   "metadata": {},
   "outputs": [],
   "source": [
    "df['descripcion_vivenda'][0]"
   ]
  },
  {
   "cell_type": "code",
   "execution_count": null,
   "metadata": {},
   "outputs": [],
   "source": [
    "#Para saber que en que primera hoja de la columna faltan datos\n",
    "#first column\n",
    "\n",
    "contador=0\n",
    "\n",
    "for i in df['tipo_moneda']:\n",
    "    contador+=1\n",
    "    if len(i)!=20:\n",
    "        \n",
    "        print(i,contador,len(i))\n",
    "\n",
    "    \n"
   ]
  },
  {
   "cell_type": "code",
   "execution_count": null,
   "metadata": {},
   "outputs": [],
   "source": [
    "contador=0\n",
    "\n",
    "for i in df['precio_vivienda']:\n",
    "    contador+=1\n",
    "    if len(i)!=20:\n",
    "        \n",
    "        print(i,contador,len(i))\n"
   ]
  },
  {
   "cell_type": "code",
   "execution_count": null,
   "metadata": {},
   "outputs": [],
   "source": [
    "contador=0\n",
    "\n",
    "for i in df['inmobiliaria']:\n",
    "    contador+=1\n",
    "    if len(i)!=20:\n",
    "        \n",
    "        print(i,contador,len(i))"
   ]
  },
  {
   "cell_type": "code",
   "execution_count": null,
   "metadata": {},
   "outputs": [],
   "source": [
    "contador=0\n",
    "\n",
    "for i in df['direccion_vivienda']:\n",
    "    contador+=1\n",
    "    if len(i)!=20:\n",
    "        \n",
    "        print(i,contador,len(i))"
   ]
  },
  {
   "cell_type": "code",
   "execution_count": null,
   "metadata": {},
   "outputs": [],
   "source": [
    "contador=0\n",
    "\n",
    "for i in df['barrio_vivenda']:\n",
    "    contador+=1\n",
    "    if len(i)!=20:\n",
    "        \n",
    "        print(i,contador,len(i))"
   ]
  },
  {
   "cell_type": "code",
   "execution_count": null,
   "metadata": {},
   "outputs": [],
   "source": [
    "contador=0\n",
    "\n",
    "for i in df['descripcion_vivenda']:\n",
    "    contador+=1\n",
    "    if len(i)!=20:\n",
    "        \n",
    "        print(i,contador,len(i))\n",
    "\n",
    "#50 años index 12\n",
    "\n",
    "#20 años index 1, #faltante index 2, ultimo index Faltante agregar\n",
    "\n",
    "#Faltante index 3\n",
    "\n",
    "#Faltante ultimo ,#Faltante 11, #Faltante 3\n",
    "\n",
    "\n"
   ]
  },
  {
   "cell_type": "code",
   "execution_count": null,
   "metadata": {},
   "outputs": [],
   "source": [
    "contador=0\n",
    "\n",
    "for i in df['inmobiliaria']:\n",
    "    contador+=1\n",
    "    if len(i)!=20:\n",
    "        \n",
    "        print(i,contador,len(i))"
   ]
  },
  {
   "cell_type": "code",
   "execution_count": null,
   "metadata": {},
   "outputs": [],
   "source": [
    "df =df.drop([138,148,158])\n",
    "\n"
   ]
  },
  {
   "cell_type": "code",
   "execution_count": null,
   "metadata": {},
   "outputs": [],
   "source": [
    "#asignar valor primera columna\n",
    "\n",
    "#lista.insert(0,'zero') : insert index, name of value\n",
    "\n"
   ]
  },
  {
   "cell_type": "code",
   "execution_count": null,
   "metadata": {},
   "outputs": [],
   "source": [
    "df['precio_vivienda']"
   ]
  },
  {
   "cell_type": "code",
   "execution_count": null,
   "metadata": {},
   "outputs": [],
   "source": [
    "df.columns"
   ]
  },
  {
   "cell_type": "code",
   "execution_count": null,
   "metadata": {},
   "outputs": [],
   "source": [
    "# Aplicamos la función a cada elemento de la columna 'tipo_moneda' usando apply\n",
    "elements_tipomon = df['tipo_moneda'].apply(lambda x: list(chain(x)))\n",
    "\n",
    "# Concatenamos todas las listas en una sola lista con chain y la convertimos en una lista con list\n",
    "elements_tipomon = list(chain(*elements_tipomon))\n",
    "\n",
    "len(elements_tipomon)\n",
    "\n",
    "\n",
    "\n",
    "# Aplicamos la función a cada elemento de la columna 'precio_vivienda' usando apply\n",
    "elements_precioviv = df['precio_vivienda'].apply(lambda x: list(chain(x)))\n",
    "\n",
    "# Concatenamos todas las listas en una sola lista con chain y la convertimos en una lista con list\n",
    "elements_precioviv = list(chain(*elements_precioviv))\n",
    "\n",
    "len(elements_precioviv)\n",
    "\n",
    "\n",
    "\n",
    "# Aplicamos la función a cada elemento de la columna 'precio_vivienda' usando apply\n",
    "elements_direcviv = df['direccion_vivienda'].apply(lambda x: list(chain(x)))\n",
    "\n",
    "# Concatenamos todas las listas en una sola lista con chain y la convertimos en una lista con list\n",
    "elements_direcviv = list(chain(*elements_direcviv))\n",
    "\n",
    "len(elements_direcviv)\n",
    "\n",
    "\n",
    "\n",
    "\n",
    "\n",
    "# Aplicamos la función a cada elemento de la columna 'precio_vivienda' usando apply\n",
    "elements_barrio = df['barrio_vivenda'].apply(lambda x: list(chain(x)))\n",
    "\n",
    "# Concatenamos todas las listas en una sola lista con chain y la convertimos en una lista con list\n",
    "elements_barrio = list(chain(*elements_barrio))\n",
    "\n",
    "len(elements_barrio)\n",
    "\n",
    "\n",
    "\n",
    "\n",
    "\n",
    "# Aplicamos la función a cada elemento de la columna 'precio_vivienda' usando apply\n",
    "elements_descripcion = df['descripcion_vivenda'].apply(lambda x: list(chain(x)))\n",
    "\n",
    "# Concatenamos todas las listas en una sola lista con chain y la convertimos en una lista con list\n",
    "elements_descripcion = list(chain(*elements_descripcion))\n",
    "\n",
    "len(elements_descripcion)"
   ]
  },
  {
   "cell_type": "code",
   "execution_count": null,
   "metadata": {},
   "outputs": [],
   "source": [
    "# Aplicamos la función a cada elemento de la columna 'tipo_moneda' usando apply\n",
    "elements_tipomonfal = df_faltante['tipo_moneda'].apply(lambda x: list(chain(x)))\n",
    "\n",
    "# Concatenamos todas las listas en una sola lista con chain y la convertimos en una lista con list\n",
    "elements_tipomonfal = list(chain(*elements_tipomonfal))\n",
    "\n",
    "print(len(elements_tipomonfal))\n",
    "\n",
    "\n",
    "\n",
    "# Aplicamos la función a cada elemento de la columna 'precio_vivienda' usando apply\n",
    "elements_preciovivfal = df_faltante['precio_vivienda'].apply(lambda x: list(chain(x)))\n",
    "\n",
    "# Concatenamos todas las listas en una sola lista con chain y la convertimos en una lista con list\n",
    "elements_preciovivfal = list(chain(*elements_preciovivfal))\n",
    "\n",
    "print(len(elements_preciovivfal))\n",
    "\n",
    "\n",
    "\n",
    "# Aplicamos la función a cada elemento de la columna 'precio_vivienda' usando apply\n",
    "elements_direcvivfal = df_faltante['direccion_vivienda'].apply(lambda x: list(chain(x)))\n",
    "\n",
    "# Concatenamos todas las listas en una sola lista con chain y la convertimos en una lista con list\n",
    "elements_direcvivfal = list(chain(*elements_direcvivfal))\n",
    "\n",
    "print(len(elements_direcvivfal))\n",
    "\n",
    "\n",
    "# Aplicamos la función a cada elemento de la columna 'precio_vivienda' usando apply\n",
    "elements_barriofal = df_faltante['barrio_vivenda'].apply(lambda x: list(chain(x)))\n",
    "\n",
    "# Concatenamos todas las listas en una sola lista con chain y la convertimos en una lista con list\n",
    "elements_barriofal = list(chain(*elements_barriofal))\n",
    "\n",
    "len(elements_barriofal)\n",
    "\n",
    "\n",
    "# Aplicamos la función a cada elemento de la columna 'precio_vivienda' usando apply\n",
    "elements_descripcionfal = df_faltante['descripcion_vivenda'].apply(lambda x: list(chain(x)))\n",
    "\n",
    "# Concatenamos todas las listas en una sola lista con chain y la convertimos en una lista con list\n",
    "elements_descripcionfal = list(chain(*elements_descripcionfal))\n",
    "\n",
    "len(elements_descripcionfal)"
   ]
  },
  {
   "cell_type": "code",
   "execution_count": null,
   "metadata": {},
   "outputs": [],
   "source": [
    "df_faltantedef=pd.DataFrame({'tipo_moneda':elements_tipomonfal,'precio_alquiler':elements_preciovivfal,'direccion':elements_direcvivfal,\n",
    "                            'barrio':elements_barriofal,'descripcion':elements_descripcionfal})"
   ]
  },
  {
   "cell_type": "code",
   "execution_count": null,
   "metadata": {},
   "outputs": [],
   "source": [
    "df_casidef=pd.DataFrame({'tipo_moneda':elements_tipomon,'precio_alquiler':elements_precioviv,'direccion':elements_direcviv,\n",
    "                            'barrio':elements_barrio,'descripcion':elements_descripcion})"
   ]
  },
  {
   "cell_type": "code",
   "execution_count": null,
   "metadata": {},
   "outputs": [],
   "source": [
    "df_def = pd.concat([df_casidef,df_faltantedef],axis=0)\n",
    "\n",
    "df_def"
   ]
  },
  {
   "cell_type": "code",
   "execution_count": null,
   "metadata": {},
   "outputs": [],
   "source": [
    "df_def['tipo_moneda'].value_counts()"
   ]
  },
  {
   "cell_type": "code",
   "execution_count": null,
   "metadata": {},
   "outputs": [],
   "source": [
    "df_def['precio_alquiler']"
   ]
  },
  {
   "cell_type": "code",
   "execution_count": null,
   "metadata": {},
   "outputs": [],
   "source": [
    "df_def['direccion']"
   ]
  },
  {
   "cell_type": "code",
   "execution_count": null,
   "metadata": {},
   "outputs": [],
   "source": [
    "df_def['barrio'] = df_def['barrio'].str.replace('Departamento en Alquiler en','').str.replace(', Capital Federal','')\n",
    "\n",
    "df_def['barrio']= df_def['barrio'].str.lstrip()"
   ]
  },
  {
   "cell_type": "code",
   "execution_count": null,
   "metadata": {},
   "outputs": [],
   "source": [
    "\n",
    "\n",
    "df_def['barrio_mod'] = df_def['barrio'].str.replace('Departamento en Alquiler en','').str.replace(', Capital Federal','').str.replace('Palermo Chico, Palermo','Palermo').str.replace('Palermo Viejo, Palermo','Palermo').str.replace('Palermo Hollywood, Palermo','Palermo').str.replace('Palermo Soho, Palermo','Palermo')\n",
    "\n",
    "df_def['barrio_mod'] = df_def['barrio_mod'].str.replace('Puerto Madero, Centro','Puerto Madero').str.replace('Cid Campeador, Caballito','Caballito').str.replace('Almagro Sur, Almagro','Almagro').str.replace('Recoleta, Barrio Norte','Recoleta').str.replace('Barrio Norte','Recoleta')\n",
    "\n",
    "df_def['barrio_mod']=df_def['barrio_mod'].str.replace('Retiro, Centro','Retiro').str.replace('Monserrat, Centro','Monserrat').str.replace('Las Cañitas, Belgrano','Belgrano').str.replace('Almagro Norte, Almagro','Almagro')\n",
    "\n",
    "\n",
    "df_def['barrio_mod']=df_def['barrio_mod'].str.replace('Parque Rivadavia, Caballito','Caballito').str.replace('Caballito Sur, Caballito','Caballito').str.replace('Palermo Nuevo, Palermo','Palermo').str.replace('Parque Centenario','Caballito').str.replace('Primera Junta, Caballito','Caballito').str.replace('Caballito Norte, Caballito','Caballito')\n",
    "\n",
    "df_def['barrio_mod']=df_def['barrio_mod'].str.replace('Parque Las Heras, Recoleta','Recoleta').str.replace('Plaza San Martín, Recoleta','Recoleta').str.replace('Tribunales, Centro', 'San Nicolas').str.replace('Cid Campeador, Caballito','Caballito')\n",
    "\n",
    "df_def['barrio_mod']=df_def['barrio_mod'].str.replace('Abasto','Balvanera').str.replace('River, Nuñez','Belgrano').str.replace('Belgrano C, Belgrano','Belgrano').str.replace('San Nicolás, Centro','San Nicolas').str.replace('Belgrano R, Belgrano','Belgrano').str.replace('Belgrano Barrancas, Belgrano','Belgrano').str.replace('Belgrano Chico, Belgrano','Belgrano')\n",
    "\n",
    "df_def['barrio_mod']= df_def['barrio_mod'].str.replace('Lomas de Nuñez, Nuñez','Nuñez').str.replace('Botanico, Palermo','Palermo').str.replace('Urquiza R, Villa Urquiza','Villa Urquiza')\n",
    "\n",
    "\n",
    "df_def['barrio_mod']=df_def['barrio_mod'].str.replace('Flores Norte, Flores','Flores').str.replace('Flores Sur, Flores','Flores').str.replace('Floresta Sur, Floresta','Floresta').str.replace('Floresta Norte, Floresta','Floresta').str.replace('Parque Avellaneda, Floresta','Parque Avellaneda').str.replace('Parque Chas, Villa Urquiza','Parque Chas').str.replace('Catalinas, Centro','San Nicolas')\n",
    "\n",
    "df_def['barrio_mod']=df_def['barrio_mod'].str.replace('Parque Las Heras,Recoleta','Recoleta')\n",
    "\n",
    "df_def['barrio_mod']=df_def['barrio_mod'].str.replace('Congreso','Balvanera')"
   ]
  },
  {
   "cell_type": "code",
   "execution_count": null,
   "metadata": {},
   "outputs": [],
   "source": [
    "df_def[df_def['barrio_mod']=='Centro']"
   ]
  },
  {
   "cell_type": "code",
   "execution_count": null,
   "metadata": {},
   "outputs": [],
   "source": [
    "df_def.loc[[152,354,380,724,940,1102,1103,1104,1339,1408,1737,2559,2567,2967,3053,3078],'barrio_mod']= 'San Nicolas'\n",
    "\n",
    "df_def.loc[933,'barrio_mod']= 'Once'\n",
    "\n",
    "df_def.loc[[1648,2274,2624,2625,3035],'barrio_mod']= 'Balvanera'\n",
    "\n",
    "df_def.loc[[2055,2843],'barrio_mod']='Recoleta'"
   ]
  },
  {
   "cell_type": "code",
   "execution_count": null,
   "metadata": {},
   "outputs": [],
   "source": [
    "df_def"
   ]
  },
  {
   "cell_type": "code",
   "execution_count": null,
   "metadata": {},
   "outputs": [],
   "source": [
    "\n",
    "df_def['alquiler'] = df_def['precio_alquiler'].str.split('+').str.get(0)\n",
    "\n",
    "\n",
    "df_def['expensas'] = df_def['precio_alquiler'].str.split('+').str.get(1)\n",
    "\n",
    "df_def['expensas']=df_def['expensas'].fillna('falta dato')\n",
    "\n",
    "df_def"
   ]
  },
  {
   "cell_type": "code",
   "execution_count": null,
   "metadata": {},
   "outputs": [],
   "source": [
    "df_def"
   ]
  },
  {
   "cell_type": "code",
   "execution_count": null,
   "metadata": {},
   "outputs": [],
   "source": [
    "for i in df_def['descripcion']:\n",
    "    print(i)"
   ]
  },
  {
   "cell_type": "code",
   "execution_count": null,
   "metadata": {},
   "outputs": [],
   "source": [
    "print(df_def.loc[0,'descripcion'])"
   ]
  }
 ],
 "metadata": {
  "kernelspec": {
   "display_name": "Python 3",
   "language": "python",
   "name": "python3"
  },
  "language_info": {
   "codemirror_mode": {
    "name": "ipython",
    "version": 3
   },
   "file_extension": ".py",
   "mimetype": "text/x-python",
   "name": "python",
   "nbconvert_exporter": "python",
   "pygments_lexer": "ipython3",
   "version": "3.10.4 (tags/v3.10.4:9d38120, Mar 23 2022, 23:13:41) [MSC v.1929 64 bit (AMD64)]"
  },
  "orig_nbformat": 4,
  "vscode": {
   "interpreter": {
    "hash": "f2ccb58c476f33ba3e3aee7ac07234ef6b8217ef24ad64d2a7d4fed1a57c1cd2"
   }
  }
 },
 "nbformat": 4,
 "nbformat_minor": 2
}
